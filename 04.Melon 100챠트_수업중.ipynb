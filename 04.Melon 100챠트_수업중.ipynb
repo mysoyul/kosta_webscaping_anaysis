{
 "cells": [
  {
   "cell_type": "markdown",
   "id": "84bb5ff8",
   "metadata": {},
   "source": [
    "### Melon 100 chart 스크래핑\n",
    "* 100곡의 노래제목, ID를 추출하기\n",
    "* Song ID로 상세페이지를 100번 요청해서 곡의 상세정보를 추출\n",
    "* 100곡의 상세정보를 json file에 저장하기\n",
    "* json file을 Pandas의 DataFrame 객체로 저장해서 표데이터를 만들기\n",
    "* DataFrame 객체를 DB의 테이블로 저장하기"
   ]
  },
  {
   "cell_type": "code",
   "execution_count": 18,
   "id": "7d07d028",
   "metadata": {},
   "outputs": [
    {
     "name": "stdout",
     "output_type": "stream",
     "text": [
      "True\n",
      "100\n"
     ]
    },
    {
     "data": {
      "text/plain": [
       "[{'title': '쉬어 (Feat. MINO) (Prod. GRAY)', 'id': '34215822'},\n",
       " {'title': 'Wake Up (Prod. 코드 쿤스트)', 'id': '34215821'},\n",
       " {'title': 'strawberry moon', 'id': '34101563'}]"
      ]
     },
     "execution_count": 18,
     "metadata": {},
     "output_type": "execute_result"
    }
   ],
   "source": [
    "import requests\n",
    "from bs4 import BeautifulSoup\n",
    "import re\n",
    "\n",
    "url = 'https://www.melon.com/chart/index.htm'\n",
    "req_header = {\n",
    "    'user-agent':'Mozilla/5.0 (Windows NT 10.0; Win64; x64) AppleWebKit/537.36 (KHTML, like Gecko) Chrome/95.0.4638.69 Safari/537.36'\n",
    "}\n",
    "\n",
    "res = requests.get(url, headers=req_header)\n",
    "print(res.ok)\n",
    "if res.ok:\n",
    "    html = res.text\n",
    "    soup = BeautifulSoup(html, 'html.parser')\n",
    "#     print(len(soup.select(\"a[href*='playSong']\"))) #100\n",
    "#     print(len(soup.select(\"div.wrap_song_info a[href*='playSong']\"))) #100\n",
    "#     print(len(soup.select(\"tr div.wrap_song_info a[href*='playSong']\"))) #100\n",
    "    \n",
    "    #100곡의 song 정보를 저장할 list 선언\n",
    "    song_list = []\n",
    "    song_atags = soup.select(\"tr div.wrap_song_info a[href*='playSong']\")\n",
    "    for idx, atag in enumerate(song_atags,1):\n",
    "        #1곡의 song 정보를 저장할 dict 선언\n",
    "        song_dict = {}\n",
    "        song_title = atag.text\n",
    "        href = atag['href']\n",
    "        song_id = None\n",
    "        matched = re.search(r'(\\d+)\\);',href)\n",
    "        if matched:\n",
    "            #print(matched.group(0), matched.group(1))\n",
    "            song_id = matched.group(1)\n",
    "            \n",
    "        song_dict['title']  = song_title\n",
    "        song_dict['id'] = song_id\n",
    "        #print(song_dict)\n",
    "        song_list.append(song_dict)\n",
    "\n",
    "print(len(song_list))        \n",
    "song_list[0:3]"
   ]
  },
  {
   "cell_type": "code",
   "execution_count": null,
   "id": "0fdbbf81",
   "metadata": {},
   "outputs": [],
   "source": []
  }
 ],
 "metadata": {
  "kernelspec": {
   "display_name": "Python 3",
   "language": "python",
   "name": "python3"
  },
  "language_info": {
   "codemirror_mode": {
    "name": "ipython",
    "version": 3
   },
   "file_extension": ".py",
   "mimetype": "text/x-python",
   "name": "python",
   "nbconvert_exporter": "python",
   "pygments_lexer": "ipython3",
   "version": "3.8.8"
  }
 },
 "nbformat": 4,
 "nbformat_minor": 5
}
