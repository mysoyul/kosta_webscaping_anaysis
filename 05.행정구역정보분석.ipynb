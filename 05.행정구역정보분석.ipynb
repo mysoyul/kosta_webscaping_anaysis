{
 "cells": [
  {
   "cell_type": "markdown",
   "id": "267f7355",
   "metadata": {},
   "source": [
    "### 행정구역정보(CSV)를 읽고, 분석하기\n",
    "* read_csv() 함수로 csv 파일 읽기\n",
    "* 행과열을 선택(Selection)\n",
    "* 상관계수 구하기 \n",
    "* 시각화"
   ]
  },
  {
   "cell_type": "code",
   "execution_count": 1,
   "id": "3cb2debe",
   "metadata": {},
   "outputs": [
    {
     "data": {
      "text/html": [
       "<div>\n",
       "<style scoped>\n",
       "    .dataframe tbody tr th:only-of-type {\n",
       "        vertical-align: middle;\n",
       "    }\n",
       "\n",
       "    .dataframe tbody tr th {\n",
       "        vertical-align: top;\n",
       "    }\n",
       "\n",
       "    .dataframe thead th {\n",
       "        text-align: right;\n",
       "    }\n",
       "</style>\n",
       "<table border=\"1\" class=\"dataframe\">\n",
       "  <thead>\n",
       "    <tr style=\"text-align: right;\">\n",
       "      <th></th>\n",
       "      <th>Unnamed: 0</th>\n",
       "      <th>인구수</th>\n",
       "      <th>shortName</th>\n",
       "      <th>x</th>\n",
       "      <th>y</th>\n",
       "      <th>면적</th>\n",
       "      <th>광역시도</th>\n",
       "      <th>행정구역</th>\n",
       "    </tr>\n",
       "  </thead>\n",
       "  <tbody>\n",
       "    <tr>\n",
       "      <th>0</th>\n",
       "      <td>0</td>\n",
       "      <td>202520</td>\n",
       "      <td>강릉</td>\n",
       "      <td>11</td>\n",
       "      <td>4</td>\n",
       "      <td>1040.07</td>\n",
       "      <td>강원도</td>\n",
       "      <td>강릉시</td>\n",
       "    </tr>\n",
       "    <tr>\n",
       "      <th>1</th>\n",
       "      <td>1</td>\n",
       "      <td>25589</td>\n",
       "      <td>고성(강원)</td>\n",
       "      <td>9</td>\n",
       "      <td>0</td>\n",
       "      <td>664.19</td>\n",
       "      <td>강원도</td>\n",
       "      <td>고성군</td>\n",
       "    </tr>\n",
       "    <tr>\n",
       "      <th>2</th>\n",
       "      <td>2</td>\n",
       "      <td>86747</td>\n",
       "      <td>동해</td>\n",
       "      <td>11</td>\n",
       "      <td>5</td>\n",
       "      <td>180.01</td>\n",
       "      <td>강원도</td>\n",
       "      <td>동해시</td>\n",
       "    </tr>\n",
       "    <tr>\n",
       "      <th>3</th>\n",
       "      <td>3</td>\n",
       "      <td>63986</td>\n",
       "      <td>삼척</td>\n",
       "      <td>11</td>\n",
       "      <td>8</td>\n",
       "      <td>1185.80</td>\n",
       "      <td>강원도</td>\n",
       "      <td>삼척시</td>\n",
       "    </tr>\n",
       "    <tr>\n",
       "      <th>4</th>\n",
       "      <td>4</td>\n",
       "      <td>76733</td>\n",
       "      <td>속초</td>\n",
       "      <td>9</td>\n",
       "      <td>1</td>\n",
       "      <td>105.25</td>\n",
       "      <td>강원도</td>\n",
       "      <td>속초시</td>\n",
       "    </tr>\n",
       "  </tbody>\n",
       "</table>\n",
       "</div>"
      ],
      "text/plain": [
       "   Unnamed: 0     인구수 shortName   x  y       면적 광역시도 행정구역\n",
       "0           0  202520        강릉  11  4  1040.07  강원도  강릉시\n",
       "1           1   25589    고성(강원)   9  0   664.19  강원도  고성군\n",
       "2           2   86747        동해  11  5   180.01  강원도  동해시\n",
       "3           3   63986        삼척  11  8  1185.80  강원도  삼척시\n",
       "4           4   76733        속초   9  1   105.25  강원도  속초시"
      ]
     },
     "execution_count": 1,
     "metadata": {},
     "output_type": "execute_result"
    }
   ],
   "source": [
    "import pandas as pd\n",
    "\n",
    "data = pd.read_csv('data/data_draw_korea.csv')\n",
    "data.head()"
   ]
  },
  {
   "cell_type": "code",
   "execution_count": 2,
   "id": "d593483a",
   "metadata": {},
   "outputs": [
    {
     "name": "stdout",
     "output_type": "stream",
     "text": [
      "<class 'pandas.core.frame.DataFrame'>\n",
      "RangeIndex: 229 entries, 0 to 228\n",
      "Data columns (total 8 columns):\n",
      " #   Column      Non-Null Count  Dtype  \n",
      "---  ------      --------------  -----  \n",
      " 0   Unnamed: 0  229 non-null    int64  \n",
      " 1   인구수         229 non-null    int64  \n",
      " 2   shortName   229 non-null    object \n",
      " 3   x           229 non-null    int64  \n",
      " 4   y           229 non-null    int64  \n",
      " 5   면적          229 non-null    float64\n",
      " 6   광역시도        229 non-null    object \n",
      " 7   행정구역        229 non-null    object \n",
      "dtypes: float64(1), int64(4), object(3)\n",
      "memory usage: 14.4+ KB\n"
     ]
    }
   ],
   "source": [
    "data.info()"
   ]
  },
  {
   "cell_type": "code",
   "execution_count": 3,
   "id": "c6042d8a",
   "metadata": {},
   "outputs": [
    {
     "data": {
      "text/html": [
       "<div>\n",
       "<style scoped>\n",
       "    .dataframe tbody tr th:only-of-type {\n",
       "        vertical-align: middle;\n",
       "    }\n",
       "\n",
       "    .dataframe tbody tr th {\n",
       "        vertical-align: top;\n",
       "    }\n",
       "\n",
       "    .dataframe thead th {\n",
       "        text-align: right;\n",
       "    }\n",
       "</style>\n",
       "<table border=\"1\" class=\"dataframe\">\n",
       "  <thead>\n",
       "    <tr style=\"text-align: right;\">\n",
       "      <th></th>\n",
       "      <th>Unnamed: 0</th>\n",
       "      <th>인구수</th>\n",
       "      <th>x</th>\n",
       "      <th>y</th>\n",
       "      <th>면적</th>\n",
       "    </tr>\n",
       "  </thead>\n",
       "  <tbody>\n",
       "    <tr>\n",
       "      <th>count</th>\n",
       "      <td>229.000000</td>\n",
       "      <td>2.290000e+02</td>\n",
       "      <td>229.000000</td>\n",
       "      <td>229.000000</td>\n",
       "      <td>229.000000</td>\n",
       "    </tr>\n",
       "    <tr>\n",
       "      <th>mean</th>\n",
       "      <td>114.000000</td>\n",
       "      <td>2.110898e+05</td>\n",
       "      <td>6.117904</td>\n",
       "      <td>11.262009</td>\n",
       "      <td>435.419795</td>\n",
       "    </tr>\n",
       "    <tr>\n",
       "      <th>std</th>\n",
       "      <td>66.250786</td>\n",
       "      <td>2.074378e+05</td>\n",
       "      <td>3.320469</td>\n",
       "      <td>6.040898</td>\n",
       "      <td>381.612549</td>\n",
       "    </tr>\n",
       "    <tr>\n",
       "      <th>min</th>\n",
       "      <td>0.000000</td>\n",
       "      <td>8.392000e+03</td>\n",
       "      <td>0.000000</td>\n",
       "      <td>0.000000</td>\n",
       "      <td>2.800000</td>\n",
       "    </tr>\n",
       "    <tr>\n",
       "      <th>25%</th>\n",
       "      <td>57.000000</td>\n",
       "      <td>4.955900e+04</td>\n",
       "      <td>3.000000</td>\n",
       "      <td>6.000000</td>\n",
       "      <td>54.000000</td>\n",
       "    </tr>\n",
       "    <tr>\n",
       "      <th>50%</th>\n",
       "      <td>114.000000</td>\n",
       "      <td>1.401590e+05</td>\n",
       "      <td>6.000000</td>\n",
       "      <td>11.000000</td>\n",
       "      <td>436.400000</td>\n",
       "    </tr>\n",
       "    <tr>\n",
       "      <th>75%</th>\n",
       "      <td>171.000000</td>\n",
       "      <td>3.216180e+05</td>\n",
       "      <td>9.000000</td>\n",
       "      <td>16.000000</td>\n",
       "      <td>692.800000</td>\n",
       "    </tr>\n",
       "    <tr>\n",
       "      <th>max</th>\n",
       "      <td>228.000000</td>\n",
       "      <td>1.125461e+06</td>\n",
       "      <td>13.000000</td>\n",
       "      <td>25.000000</td>\n",
       "      <td>1817.940000</td>\n",
       "    </tr>\n",
       "  </tbody>\n",
       "</table>\n",
       "</div>"
      ],
      "text/plain": [
       "       Unnamed: 0           인구수           x           y           면적\n",
       "count  229.000000  2.290000e+02  229.000000  229.000000   229.000000\n",
       "mean   114.000000  2.110898e+05    6.117904   11.262009   435.419795\n",
       "std     66.250786  2.074378e+05    3.320469    6.040898   381.612549\n",
       "min      0.000000  8.392000e+03    0.000000    0.000000     2.800000\n",
       "25%     57.000000  4.955900e+04    3.000000    6.000000    54.000000\n",
       "50%    114.000000  1.401590e+05    6.000000   11.000000   436.400000\n",
       "75%    171.000000  3.216180e+05    9.000000   16.000000   692.800000\n",
       "max    228.000000  1.125461e+06   13.000000   25.000000  1817.940000"
      ]
     },
     "execution_count": 3,
     "metadata": {},
     "output_type": "execute_result"
    }
   ],
   "source": [
    "data.describe()"
   ]
  },
  {
   "cell_type": "code",
   "execution_count": 4,
   "id": "701db232",
   "metadata": {},
   "outputs": [
    {
     "name": "stdout",
     "output_type": "stream",
     "text": [
      "표준편차  207437.8370475227\n",
      "평균  211089.77729257641\n",
      "중간  140159.0\n",
      "최대  1125461\n",
      "최소  8392\n"
     ]
    }
   ],
   "source": [
    "#인구수 컬럼의 평균, 중간, 최대, 최소\n",
    "print('표준편차 ',data['인구수'].std())\n",
    "print('평균 ',data['인구수'].mean())\n",
    "print('중간 ',data['인구수'].median())\n",
    "print('최대 ',data['인구수'].max())\n",
    "print('최소 ',data['인구수'].min())"
   ]
  },
  {
   "cell_type": "code",
   "execution_count": 5,
   "id": "e01cb22c",
   "metadata": {},
   "outputs": [
    {
     "data": {
      "text/plain": [
       "array(['강원도', '경기도', '경상남도', '경상북도', '광주광역시', '대구광역시', '대전광역시', '부산광역시',\n",
       "       '서울특별시', '세종특별자치시', '울산광역시', '인천광역시', '전라남도', '전라북도', '제주특별자치도',\n",
       "       '충청남도', '충청북도'], dtype=object)"
      ]
     },
     "execution_count": 5,
     "metadata": {},
     "output_type": "execute_result"
    }
   ],
   "source": [
    "#광역시도명(unique)\n",
    "data['광역시도'].unique()"
   ]
  },
  {
   "cell_type": "code",
   "execution_count": 6,
   "id": "0594e9aa",
   "metadata": {},
   "outputs": [
    {
     "data": {
      "text/plain": [
       "경기도        31\n",
       "서울특별시      25\n",
       "경상북도       23\n",
       "전라남도       22\n",
       "강원도        18\n",
       "경상남도       18\n",
       "부산광역시      16\n",
       "충청남도       15\n",
       "전라북도       14\n",
       "충청북도       11\n",
       "인천광역시      10\n",
       "대구광역시       8\n",
       "대전광역시       5\n",
       "울산광역시       5\n",
       "광주광역시       5\n",
       "제주특별자치도     2\n",
       "세종특별자치시     1\n",
       "Name: 광역시도, dtype: int64"
      ]
     },
     "execution_count": 6,
     "metadata": {},
     "output_type": "execute_result"
    }
   ],
   "source": [
    "#광역시도 row count\n",
    "data['광역시도'].value_counts()"
   ]
  },
  {
   "cell_type": "code",
   "execution_count": 7,
   "id": "a99db66e",
   "metadata": {},
   "outputs": [
    {
     "data": {
      "text/plain": [
       "304548.39514203876"
      ]
     },
     "execution_count": 7,
     "metadata": {},
     "output_type": "execute_result"
    }
   ],
   "source": [
    "#경기도의 인구수 표준편차\n",
    "data.loc[data['광역시도'] == '경기도','인구수'].std()"
   ]
  },
  {
   "cell_type": "code",
   "execution_count": 8,
   "id": "dcc317c8",
   "metadata": {},
   "outputs": [
    {
     "data": {
      "text/plain": [
       "125231.24797500289"
      ]
     },
     "execution_count": 8,
     "metadata": {},
     "output_type": "execute_result"
    }
   ],
   "source": [
    "#서울특별시의 인구수 표준편차\n",
    "data.loc[data['광역시도'] == '서울특별시','인구수'].std()"
   ]
  },
  {
   "cell_type": "markdown",
   "id": "0eb4bda0",
   "metadata": {},
   "source": [
    "#### Data Selection\n",
    "* loc, iloc 사용\n",
    "* 슬라이싱 , 조건식, 특정행과 열을 여러개 선택"
   ]
  },
  {
   "cell_type": "code",
   "execution_count": 9,
   "id": "850e5c94",
   "metadata": {},
   "outputs": [
    {
     "data": {
      "text/html": [
       "<div>\n",
       "<style scoped>\n",
       "    .dataframe tbody tr th:only-of-type {\n",
       "        vertical-align: middle;\n",
       "    }\n",
       "\n",
       "    .dataframe tbody tr th {\n",
       "        vertical-align: top;\n",
       "    }\n",
       "\n",
       "    .dataframe thead th {\n",
       "        text-align: right;\n",
       "    }\n",
       "</style>\n",
       "<table border=\"1\" class=\"dataframe\">\n",
       "  <thead>\n",
       "    <tr style=\"text-align: right;\">\n",
       "      <th></th>\n",
       "      <th>행정구역</th>\n",
       "      <th>인구수</th>\n",
       "    </tr>\n",
       "  </thead>\n",
       "  <tbody>\n",
       "    <tr>\n",
       "      <th>0</th>\n",
       "      <td>강릉시</td>\n",
       "      <td>202520</td>\n",
       "    </tr>\n",
       "    <tr>\n",
       "      <th>1</th>\n",
       "      <td>고성군</td>\n",
       "      <td>25589</td>\n",
       "    </tr>\n",
       "    <tr>\n",
       "      <th>2</th>\n",
       "      <td>동해시</td>\n",
       "      <td>86747</td>\n",
       "    </tr>\n",
       "    <tr>\n",
       "      <th>3</th>\n",
       "      <td>삼척시</td>\n",
       "      <td>63986</td>\n",
       "    </tr>\n",
       "    <tr>\n",
       "      <th>4</th>\n",
       "      <td>속초시</td>\n",
       "      <td>76733</td>\n",
       "    </tr>\n",
       "    <tr>\n",
       "      <th>5</th>\n",
       "      <td>양구군</td>\n",
       "      <td>20809</td>\n",
       "    </tr>\n",
       "  </tbody>\n",
       "</table>\n",
       "</div>"
      ],
      "text/plain": [
       "  행정구역     인구수\n",
       "0  강릉시  202520\n",
       "1  고성군   25589\n",
       "2  동해시   86747\n",
       "3  삼척시   63986\n",
       "4  속초시   76733\n",
       "5  양구군   20809"
      ]
     },
     "execution_count": 9,
     "metadata": {},
     "output_type": "execute_result"
    }
   ],
   "source": [
    "#6개의 행과 2개의 컬럼을 선택\n",
    "data.loc[0:5,['행정구역','인구수']]"
   ]
  },
  {
   "cell_type": "code",
   "execution_count": 10,
   "id": "5ff97713",
   "metadata": {},
   "outputs": [
    {
     "data": {
      "text/html": [
       "<div>\n",
       "<style scoped>\n",
       "    .dataframe tbody tr th:only-of-type {\n",
       "        vertical-align: middle;\n",
       "    }\n",
       "\n",
       "    .dataframe tbody tr th {\n",
       "        vertical-align: top;\n",
       "    }\n",
       "\n",
       "    .dataframe thead th {\n",
       "        text-align: right;\n",
       "    }\n",
       "</style>\n",
       "<table border=\"1\" class=\"dataframe\">\n",
       "  <thead>\n",
       "    <tr style=\"text-align: right;\">\n",
       "      <th></th>\n",
       "      <th>행정구역</th>\n",
       "      <th>인구수</th>\n",
       "    </tr>\n",
       "  </thead>\n",
       "  <tbody>\n",
       "    <tr>\n",
       "      <th>0</th>\n",
       "      <td>강릉시</td>\n",
       "      <td>202520</td>\n",
       "    </tr>\n",
       "    <tr>\n",
       "      <th>2</th>\n",
       "      <td>동해시</td>\n",
       "      <td>86747</td>\n",
       "    </tr>\n",
       "    <tr>\n",
       "      <th>4</th>\n",
       "      <td>속초시</td>\n",
       "      <td>76733</td>\n",
       "    </tr>\n",
       "  </tbody>\n",
       "</table>\n",
       "</div>"
      ],
      "text/plain": [
       "  행정구역     인구수\n",
       "0  강릉시  202520\n",
       "2  동해시   86747\n",
       "4  속초시   76733"
      ]
     },
     "execution_count": 10,
     "metadata": {},
     "output_type": "execute_result"
    }
   ],
   "source": [
    "data.loc[0:5:2,['행정구역','인구수']]"
   ]
  },
  {
   "cell_type": "code",
   "execution_count": 11,
   "id": "fb0213dc",
   "metadata": {},
   "outputs": [
    {
     "data": {
      "text/html": [
       "<div>\n",
       "<style scoped>\n",
       "    .dataframe tbody tr th:only-of-type {\n",
       "        vertical-align: middle;\n",
       "    }\n",
       "\n",
       "    .dataframe tbody tr th {\n",
       "        vertical-align: top;\n",
       "    }\n",
       "\n",
       "    .dataframe thead th {\n",
       "        text-align: right;\n",
       "    }\n",
       "</style>\n",
       "<table border=\"1\" class=\"dataframe\">\n",
       "  <thead>\n",
       "    <tr style=\"text-align: right;\">\n",
       "      <th></th>\n",
       "      <th>인구수</th>\n",
       "      <th>shortName</th>\n",
       "      <th>x</th>\n",
       "      <th>y</th>\n",
       "      <th>면적</th>\n",
       "      <th>광역시도</th>\n",
       "    </tr>\n",
       "  </thead>\n",
       "  <tbody>\n",
       "    <tr>\n",
       "      <th>3</th>\n",
       "      <td>63986</td>\n",
       "      <td>삼척</td>\n",
       "      <td>11</td>\n",
       "      <td>8</td>\n",
       "      <td>1185.80</td>\n",
       "      <td>강원도</td>\n",
       "    </tr>\n",
       "    <tr>\n",
       "      <th>7</th>\n",
       "      <td>34966</td>\n",
       "      <td>영월</td>\n",
       "      <td>10</td>\n",
       "      <td>8</td>\n",
       "      <td>1127.36</td>\n",
       "      <td>강원도</td>\n",
       "    </tr>\n",
       "    <tr>\n",
       "      <th>10</th>\n",
       "      <td>34242</td>\n",
       "      <td>정선</td>\n",
       "      <td>11</td>\n",
       "      <td>6</td>\n",
       "      <td>1220.67</td>\n",
       "      <td>강원도</td>\n",
       "    </tr>\n",
       "  </tbody>\n",
       "</table>\n",
       "</div>"
      ],
      "text/plain": [
       "      인구수 shortName   x  y       면적 광역시도\n",
       "3   63986        삼척  11  8  1185.80  강원도\n",
       "7   34966        영월  10  8  1127.36  강원도\n",
       "10  34242        정선  11  6  1220.67  강원도"
      ]
     },
     "execution_count": 11,
     "metadata": {},
     "output_type": "execute_result"
    }
   ],
   "source": [
    "#3,7,10행과 인구수부터 광역시도 컬럼까지\n",
    "data.loc[[3,7,10],'인구수':'광역시도']"
   ]
  },
  {
   "cell_type": "code",
   "execution_count": 28,
   "id": "dbbf60e3",
   "metadata": {},
   "outputs": [
    {
     "data": {
      "text/html": [
       "<div>\n",
       "<style scoped>\n",
       "    .dataframe tbody tr th:only-of-type {\n",
       "        vertical-align: middle;\n",
       "    }\n",
       "\n",
       "    .dataframe tbody tr th {\n",
       "        vertical-align: top;\n",
       "    }\n",
       "\n",
       "    .dataframe thead th {\n",
       "        text-align: right;\n",
       "    }\n",
       "</style>\n",
       "<table border=\"1\" class=\"dataframe\">\n",
       "  <thead>\n",
       "    <tr style=\"text-align: right;\">\n",
       "      <th></th>\n",
       "      <th>행정구역</th>\n",
       "      <th>인구수</th>\n",
       "      <th>면적</th>\n",
       "    </tr>\n",
       "    <tr>\n",
       "      <th>seq</th>\n",
       "      <th></th>\n",
       "      <th></th>\n",
       "      <th></th>\n",
       "    </tr>\n",
       "  </thead>\n",
       "  <tbody>\n",
       "    <tr>\n",
       "      <th>67</th>\n",
       "      <td>경산시</td>\n",
       "      <td>251220</td>\n",
       "      <td>411.58</td>\n",
       "    </tr>\n",
       "    <tr>\n",
       "      <th>68</th>\n",
       "      <td>경주시</td>\n",
       "      <td>242618</td>\n",
       "      <td>1323.85</td>\n",
       "    </tr>\n",
       "    <tr>\n",
       "      <th>69</th>\n",
       "      <td>고령군</td>\n",
       "      <td>31189</td>\n",
       "      <td>383.70</td>\n",
       "    </tr>\n",
       "    <tr>\n",
       "      <th>70</th>\n",
       "      <td>구미시</td>\n",
       "      <td>396685</td>\n",
       "      <td>616.10</td>\n",
       "    </tr>\n",
       "    <tr>\n",
       "      <th>71</th>\n",
       "      <td>군위군</td>\n",
       "      <td>20596</td>\n",
       "      <td>614.15</td>\n",
       "    </tr>\n",
       "  </tbody>\n",
       "</table>\n",
       "</div>"
      ],
      "text/plain": [
       "    행정구역     인구수       면적\n",
       "seq                      \n",
       "67   경산시  251220   411.58\n",
       "68   경주시  242618  1323.85\n",
       "69   고령군   31189   383.70\n",
       "70   구미시  396685   616.10\n",
       "71   군위군   20596   614.15"
      ]
     },
     "execution_count": 28,
     "metadata": {},
     "output_type": "execute_result"
    }
   ],
   "source": [
    "#경상북도의 행정구역,인구수,면적 \n",
    "data.loc[data['광역시도'] == '경상북도',['행정구역','인구수','면적']].head()"
   ]
  },
  {
   "cell_type": "code",
   "execution_count": 29,
   "id": "8b0caed4-ff7c-49a5-88df-eb6609c993ac",
   "metadata": {},
   "outputs": [
    {
     "data": {
      "text/html": [
       "<div>\n",
       "<style scoped>\n",
       "    .dataframe tbody tr th:only-of-type {\n",
       "        vertical-align: middle;\n",
       "    }\n",
       "\n",
       "    .dataframe tbody tr th {\n",
       "        vertical-align: top;\n",
       "    }\n",
       "\n",
       "    .dataframe thead th {\n",
       "        text-align: right;\n",
       "    }\n",
       "</style>\n",
       "<table border=\"1\" class=\"dataframe\">\n",
       "  <thead>\n",
       "    <tr style=\"text-align: right;\">\n",
       "      <th></th>\n",
       "      <th>인구수</th>\n",
       "      <th>shortName</th>\n",
       "      <th>x</th>\n",
       "      <th>y</th>\n",
       "    </tr>\n",
       "    <tr>\n",
       "      <th>seq</th>\n",
       "      <th></th>\n",
       "      <th></th>\n",
       "      <th></th>\n",
       "      <th></th>\n",
       "    </tr>\n",
       "  </thead>\n",
       "  <tbody>\n",
       "    <tr>\n",
       "      <th>0</th>\n",
       "      <td>202520</td>\n",
       "      <td>강릉</td>\n",
       "      <td>11</td>\n",
       "      <td>4</td>\n",
       "    </tr>\n",
       "    <tr>\n",
       "      <th>1</th>\n",
       "      <td>25589</td>\n",
       "      <td>고성(강원)</td>\n",
       "      <td>9</td>\n",
       "      <td>0</td>\n",
       "    </tr>\n",
       "    <tr>\n",
       "      <th>2</th>\n",
       "      <td>86747</td>\n",
       "      <td>동해</td>\n",
       "      <td>11</td>\n",
       "      <td>5</td>\n",
       "    </tr>\n",
       "    <tr>\n",
       "      <th>3</th>\n",
       "      <td>63986</td>\n",
       "      <td>삼척</td>\n",
       "      <td>11</td>\n",
       "      <td>8</td>\n",
       "    </tr>\n",
       "    <tr>\n",
       "      <th>4</th>\n",
       "      <td>76733</td>\n",
       "      <td>속초</td>\n",
       "      <td>9</td>\n",
       "      <td>1</td>\n",
       "    </tr>\n",
       "  </tbody>\n",
       "</table>\n",
       "</div>"
      ],
      "text/plain": [
       "        인구수 shortName   x  y\n",
       "seq                         \n",
       "0    202520        강릉  11  4\n",
       "1     25589    고성(강원)   9  0\n",
       "2     86747        동해  11  5\n",
       "3     63986        삼척  11  8\n",
       "4     76733        속초   9  1"
      ]
     },
     "execution_count": 29,
     "metadata": {},
     "output_type": "execute_result"
    }
   ],
   "source": [
    "#iloc\n",
    "data.iloc[0:5,0:4]"
   ]
  },
  {
   "cell_type": "code",
   "execution_count": 18,
   "id": "63ffcd3a-78e5-4bb0-97b0-ded86d2ade07",
   "metadata": {},
   "outputs": [
    {
     "name": "stdout",
     "output_type": "stream",
     "text": [
      "Index(['seq', '인구수', 'shortName', 'x', 'y', '면적', '광역시도', '행정구역'], dtype='object')\n"
     ]
    },
    {
     "data": {
      "text/html": [
       "<div>\n",
       "<style scoped>\n",
       "    .dataframe tbody tr th:only-of-type {\n",
       "        vertical-align: middle;\n",
       "    }\n",
       "\n",
       "    .dataframe tbody tr th {\n",
       "        vertical-align: top;\n",
       "    }\n",
       "\n",
       "    .dataframe thead th {\n",
       "        text-align: right;\n",
       "    }\n",
       "</style>\n",
       "<table border=\"1\" class=\"dataframe\">\n",
       "  <thead>\n",
       "    <tr style=\"text-align: right;\">\n",
       "      <th></th>\n",
       "      <th>seq</th>\n",
       "      <th>인구수</th>\n",
       "      <th>shortName</th>\n",
       "      <th>x</th>\n",
       "      <th>y</th>\n",
       "      <th>면적</th>\n",
       "      <th>광역시도</th>\n",
       "      <th>행정구역</th>\n",
       "    </tr>\n",
       "  </thead>\n",
       "  <tbody>\n",
       "    <tr>\n",
       "      <th>0</th>\n",
       "      <td>0</td>\n",
       "      <td>202520</td>\n",
       "      <td>강릉</td>\n",
       "      <td>11</td>\n",
       "      <td>4</td>\n",
       "      <td>1040.07</td>\n",
       "      <td>강원도</td>\n",
       "      <td>강릉시</td>\n",
       "    </tr>\n",
       "    <tr>\n",
       "      <th>1</th>\n",
       "      <td>1</td>\n",
       "      <td>25589</td>\n",
       "      <td>고성(강원)</td>\n",
       "      <td>9</td>\n",
       "      <td>0</td>\n",
       "      <td>664.19</td>\n",
       "      <td>강원도</td>\n",
       "      <td>고성군</td>\n",
       "    </tr>\n",
       "  </tbody>\n",
       "</table>\n",
       "</div>"
      ],
      "text/plain": [
       "   seq     인구수 shortName   x  y       면적 광역시도 행정구역\n",
       "0    0  202520        강릉  11  4  1040.07  강원도  강릉시\n",
       "1    1   25589    고성(강원)   9  0   664.19  강원도  고성군"
      ]
     },
     "execution_count": 18,
     "metadata": {},
     "output_type": "execute_result"
    }
   ],
   "source": [
    "#컬럼명 변경\n",
    "print(data.columns)\n",
    "data = data.rename(columns={'Unnamed: 0':'seq'})\n",
    "data.head(2)"
   ]
  },
  {
   "cell_type": "code",
   "execution_count": 19,
   "id": "f2d90c67-9f6a-4919-a3e6-bfbefe6ffa48",
   "metadata": {},
   "outputs": [
    {
     "data": {
      "text/html": [
       "<div>\n",
       "<style scoped>\n",
       "    .dataframe tbody tr th:only-of-type {\n",
       "        vertical-align: middle;\n",
       "    }\n",
       "\n",
       "    .dataframe tbody tr th {\n",
       "        vertical-align: top;\n",
       "    }\n",
       "\n",
       "    .dataframe thead th {\n",
       "        text-align: right;\n",
       "    }\n",
       "</style>\n",
       "<table border=\"1\" class=\"dataframe\">\n",
       "  <thead>\n",
       "    <tr style=\"text-align: right;\">\n",
       "      <th></th>\n",
       "      <th>인구수</th>\n",
       "      <th>shortName</th>\n",
       "      <th>x</th>\n",
       "      <th>y</th>\n",
       "      <th>면적</th>\n",
       "      <th>광역시도</th>\n",
       "      <th>행정구역</th>\n",
       "    </tr>\n",
       "    <tr>\n",
       "      <th>seq</th>\n",
       "      <th></th>\n",
       "      <th></th>\n",
       "      <th></th>\n",
       "      <th></th>\n",
       "      <th></th>\n",
       "      <th></th>\n",
       "      <th></th>\n",
       "    </tr>\n",
       "  </thead>\n",
       "  <tbody>\n",
       "    <tr>\n",
       "      <th>0</th>\n",
       "      <td>202520</td>\n",
       "      <td>강릉</td>\n",
       "      <td>11</td>\n",
       "      <td>4</td>\n",
       "      <td>1040.07</td>\n",
       "      <td>강원도</td>\n",
       "      <td>강릉시</td>\n",
       "    </tr>\n",
       "    <tr>\n",
       "      <th>1</th>\n",
       "      <td>25589</td>\n",
       "      <td>고성(강원)</td>\n",
       "      <td>9</td>\n",
       "      <td>0</td>\n",
       "      <td>664.19</td>\n",
       "      <td>강원도</td>\n",
       "      <td>고성군</td>\n",
       "    </tr>\n",
       "  </tbody>\n",
       "</table>\n",
       "</div>"
      ],
      "text/plain": [
       "        인구수 shortName   x  y       면적 광역시도 행정구역\n",
       "seq                                            \n",
       "0    202520        강릉  11  4  1040.07  강원도  강릉시\n",
       "1     25589    고성(강원)   9  0   664.19  강원도  고성군"
      ]
     },
     "execution_count": 19,
     "metadata": {},
     "output_type": "execute_result"
    }
   ],
   "source": [
    "#seq 컬럼을 index로 변환하기\n",
    "data = data.set_index('seq')\n",
    "data.head(2)"
   ]
  },
  {
   "cell_type": "code",
   "execution_count": 27,
   "id": "b07a6960-fd48-46fb-8f8c-74d6af8ca0d8",
   "metadata": {},
   "outputs": [
    {
     "name": "stdout",
     "output_type": "stream",
     "text": [
      "211089.77729257641\n"
     ]
    },
    {
     "data": {
      "text/html": [
       "<div>\n",
       "<style scoped>\n",
       "    .dataframe tbody tr th:only-of-type {\n",
       "        vertical-align: middle;\n",
       "    }\n",
       "\n",
       "    .dataframe tbody tr th {\n",
       "        vertical-align: top;\n",
       "    }\n",
       "\n",
       "    .dataframe thead th {\n",
       "        text-align: right;\n",
       "    }\n",
       "</style>\n",
       "<table border=\"1\" class=\"dataframe\">\n",
       "  <thead>\n",
       "    <tr style=\"text-align: right;\">\n",
       "      <th></th>\n",
       "      <th>인구수</th>\n",
       "      <th>shortName</th>\n",
       "      <th>x</th>\n",
       "      <th>y</th>\n",
       "      <th>면적</th>\n",
       "      <th>광역시도</th>\n",
       "      <th>행정구역</th>\n",
       "    </tr>\n",
       "  </thead>\n",
       "  <tbody>\n",
       "    <tr>\n",
       "      <th>0</th>\n",
       "      <td>208603</td>\n",
       "      <td>서울용산</td>\n",
       "      <td>6</td>\n",
       "      <td>5</td>\n",
       "      <td>21.87</td>\n",
       "      <td>서울특별시</td>\n",
       "      <td>용산구</td>\n",
       "    </tr>\n",
       "    <tr>\n",
       "      <th>1</th>\n",
       "      <td>203232</td>\n",
       "      <td>울산울주</td>\n",
       "      <td>11</td>\n",
       "      <td>15</td>\n",
       "      <td>754.93</td>\n",
       "      <td>울산광역시</td>\n",
       "      <td>울주군</td>\n",
       "    </tr>\n",
       "    <tr>\n",
       "      <th>2</th>\n",
       "      <td>202520</td>\n",
       "      <td>강릉</td>\n",
       "      <td>11</td>\n",
       "      <td>4</td>\n",
       "      <td>1040.07</td>\n",
       "      <td>강원도</td>\n",
       "      <td>강릉시</td>\n",
       "    </tr>\n",
       "  </tbody>\n",
       "</table>\n",
       "</div>"
      ],
      "text/plain": [
       "      인구수 shortName   x   y       면적   광역시도 행정구역\n",
       "0  208603      서울용산   6   5    21.87  서울특별시  용산구\n",
       "1  203232      울산울주  11  15   754.93  울산광역시  울주군\n",
       "2  202520        강릉  11   4  1040.07    강원도  강릉시"
      ]
     },
     "execution_count": 27,
     "metadata": {},
     "output_type": "execute_result"
    }
   ],
   "source": [
    "#인구수가 전국평균보다 작은 행정구역은?\n",
    "pop_mean_value = data['인구수'].mean()\n",
    "print(pop_mean_value)\n",
    "\n",
    "pop_mean_lt = data.loc[data['인구수'] < pop_mean_value].sort_values(by='인구수',ascending=False).reset_index(drop=True)\n",
    "pop_mean_lt.head(3)"
   ]
  },
  {
   "cell_type": "code",
   "execution_count": 33,
   "id": "d603d7f2-0366-4a98-a500-9be21a2ead11",
   "metadata": {},
   "outputs": [
    {
     "name": "stdout",
     "output_type": "stream",
     "text": [
      "RangeIndex(start=0, stop=141, step=1)\n"
     ]
    },
    {
     "data": {
      "text/html": [
       "<div>\n",
       "<style scoped>\n",
       "    .dataframe tbody tr th:only-of-type {\n",
       "        vertical-align: middle;\n",
       "    }\n",
       "\n",
       "    .dataframe tbody tr th {\n",
       "        vertical-align: top;\n",
       "    }\n",
       "\n",
       "    .dataframe thead th {\n",
       "        text-align: right;\n",
       "    }\n",
       "</style>\n",
       "<table border=\"1\" class=\"dataframe\">\n",
       "  <thead>\n",
       "    <tr style=\"text-align: right;\">\n",
       "      <th></th>\n",
       "      <th>인구수</th>\n",
       "      <th>shortName</th>\n",
       "      <th>x</th>\n",
       "      <th>y</th>\n",
       "      <th>면적</th>\n",
       "      <th>광역시도</th>\n",
       "      <th>행정구역</th>\n",
       "    </tr>\n",
       "  </thead>\n",
       "  <tbody>\n",
       "    <tr>\n",
       "      <th>1</th>\n",
       "      <td>208603</td>\n",
       "      <td>서울용산</td>\n",
       "      <td>6</td>\n",
       "      <td>5</td>\n",
       "      <td>21.87</td>\n",
       "      <td>서울특별시</td>\n",
       "      <td>용산구</td>\n",
       "    </tr>\n",
       "    <tr>\n",
       "      <th>2</th>\n",
       "      <td>203232</td>\n",
       "      <td>울산울주</td>\n",
       "      <td>11</td>\n",
       "      <td>15</td>\n",
       "      <td>754.93</td>\n",
       "      <td>울산광역시</td>\n",
       "      <td>울주군</td>\n",
       "    </tr>\n",
       "  </tbody>\n",
       "</table>\n",
       "</div>"
      ],
      "text/plain": [
       "      인구수 shortName   x   y      면적   광역시도 행정구역\n",
       "1  208603      서울용산   6   5   21.87  서울특별시  용산구\n",
       "2  203232      울산울주  11  15  754.93  울산광역시  울주군"
      ]
     },
     "execution_count": 33,
     "metadata": {},
     "output_type": "execute_result"
    }
   ],
   "source": [
    "#index를 1부터 시작하도록 변경하기\n",
    "import numpy as np\n",
    "print(pop_mean_lt.index)\n",
    "pop_mean_lt.index = np.arange(1, len(pop_mean_lt)+1)\n",
    "pop_mean_lt.head(2)"
   ]
  },
  {
   "cell_type": "code",
   "execution_count": 35,
   "id": "1ef2d52e-2d58-4007-a8bd-c505c00efac9",
   "metadata": {},
   "outputs": [],
   "source": [
    "#excel file로 저장하기\n",
    "pop_mean_lt.to_excel('data/평균인구수미만지역.xlsx', sheet_name='평균인구수미만지역')"
   ]
  },
  {
   "cell_type": "markdown",
   "id": "4569a08f-82fd-4d7b-8ba2-f1f89a79f541",
   "metadata": {},
   "source": [
    "#### 상관계수\n",
    "* 인구수와 면적이 관련성이 있는지 확인하기\n",
    "* 상관계수는 -1 ~ 1 사이의 값이며, 0에 가까울수록 관련성이 낮고, 1에 가까울수록 관련성이 높다. \n",
    "* corr() 함수 사용"
   ]
  },
  {
   "cell_type": "code",
   "execution_count": 37,
   "id": "63448839-27fa-4afe-9f5d-343daabe7a2d",
   "metadata": {},
   "outputs": [
    {
     "data": {
      "text/plain": [
       "-0.3460351605045768"
      ]
     },
     "execution_count": 37,
     "metadata": {},
     "output_type": "execute_result"
    }
   ],
   "source": [
    "#전체 행정구역의 인구수와 면적의 상관계수\n",
    "data['인구수'].corr(data['면적'])"
   ]
  },
  {
   "cell_type": "code",
   "execution_count": 40,
   "id": "a22f5562-c6ae-4ace-abaf-392fc34df80d",
   "metadata": {},
   "outputs": [
    {
     "data": {
      "text/plain": [
       "0.6644268188909777"
      ]
     },
     "execution_count": 40,
     "metadata": {},
     "output_type": "execute_result"
    }
   ],
   "source": [
    "#서울특별시 행정구역의 인구수와 면적의 상관계수\n",
    "seoul_df = data.loc[data['광역시도'] == '서울특별시']\n",
    "seoul_df['인구수'].corr(seoul_df['면적'])"
   ]
  },
  {
   "cell_type": "markdown",
   "id": "4be0ca8a-a52f-4c75-bf48-57ec4aa533be",
   "metadata": {},
   "source": [
    "#### GroupBy "
   ]
  }
 ],
 "metadata": {
  "kernelspec": {
   "display_name": "Python 3",
   "language": "python",
   "name": "python3"
  },
  "language_info": {
   "codemirror_mode": {
    "name": "ipython",
    "version": 3
   },
   "file_extension": ".py",
   "mimetype": "text/x-python",
   "name": "python",
   "nbconvert_exporter": "python",
   "pygments_lexer": "ipython3",
   "version": "3.8.8"
  }
 },
 "nbformat": 4,
 "nbformat_minor": 5
}
