{
 "cells": [
  {
   "cell_type": "markdown",
   "id": "9fbf8abb",
   "metadata": {},
   "source": [
    "### 기상청 날씨 데이터 \n",
    "* BeautifulSoup 객체의 find(), find_all(), select(), select_one() 함수 비교 사용\n",
    "* 파싱한 데이터를 자료구조 (dict, list)에 저장하기\n",
    "* json file 로 저장하기"
   ]
  },
  {
   "cell_type": "code",
   "execution_count": 9,
   "id": "6faadfe4",
   "metadata": {},
   "outputs": [
    {
     "name": "stdout",
     "output_type": "stream",
     "text": [
      "200\n",
      "<class 'bs4.element.Tag'> <title>기상청 육상 중기예보</title>\n",
      "<class 'str'> 기상청 육상 중기예보\n",
      "<class 'bs4.element.NavigableString'> 기상청 육상 중기예보\n",
      "<class 'bs4.element.ResultSet'> [<title>기상청 육상 중기예보</title>, <title>전국 육상 중기예보 - 2021년 11월 11일 (목)요일 06:00 발표</title>, <title>전국 육상중기예보</title>]\n",
      "기상청 육상 중기예보\n",
      "전국 육상 중기예보 - 2021년 11월 11일 (목)요일 06:00 발표\n",
      "전국 육상중기예보\n"
     ]
    }
   ],
   "source": [
    "import requests\n",
    "from bs4 import BeautifulSoup\n",
    "\n",
    "url = 'http://www.kma.go.kr/weather/forecast/mid-term-rss3.jsp'\n",
    "res = requests.get(url)\n",
    "print(res.status_code)\n",
    "\n",
    "if res.ok:\n",
    "    soup = BeautifulSoup(res.text, 'html.parser')\n",
    "    \n",
    "    title = soup.find('title')\n",
    "    print(type(title), title)\n",
    "    print(type(title.text), title.text)\n",
    "    print(type(title.string), title.string)\n",
    "    \n",
    "    title_all = soup.find_all('title')\n",
    "    print(type(title_all), title_all)\n",
    "    for item in title_all:\n",
    "        print(item.string)"
   ]
  },
  {
   "cell_type": "code",
   "execution_count": 13,
   "id": "9af3120e",
   "metadata": {},
   "outputs": [
    {
     "name": "stdout",
     "output_type": "stream",
     "text": [
      "41\n",
      "41\n"
     ]
    }
   ],
   "source": [
    "location_all = soup.find_all('location', attrs={\"wl_ver\":\"3\"})\n",
    "print(len(location_all))\n",
    "\n",
    "location_all2 = soup.select(\"location[wl_ver='3']\")\n",
    "print(len(location_all2))"
   ]
  },
  {
   "cell_type": "code",
   "execution_count": 20,
   "id": "bf701cfa",
   "metadata": {},
   "outputs": [
    {
     "name": "stdout",
     "output_type": "stream",
     "text": [
      "서울ㆍ인천ㆍ경기도\n",
      "서울\n",
      "13\n",
      "A02 2021-11-14 00:00\n",
      "A02 2021-11-14 12:00\n",
      "A02 2021-11-15 00:00\n",
      "A02 2021-11-15 12:00\n",
      "A02 2021-11-16 00:00\n",
      "A02 2021-11-16 12:00\n",
      "A02 2021-11-17 00:00\n",
      "A02 2021-11-17 12:00\n",
      "A02 2021-11-18 00:00\n",
      "A02 2021-11-18 12:00\n",
      "A01 2021-11-19 00:00\n",
      "A01 2021-11-20 00:00\n",
      "A01 2021-11-21 00:00\n"
     ]
    }
   ],
   "source": [
    "location_one = soup.find('location', attrs={\"wl_ver\":\"3\"})\n",
    "province = location_one.find('province').string\n",
    "print(province)\n",
    "city = location_one.find('city').string\n",
    "print(city)\n",
    "\n",
    "print(len(location_one.find_all('data')))\n",
    "for data in location_one.find_all('data'):\n",
    "    print(data.find('mode').string, data.find('tmef').string)"
   ]
  },
  {
   "cell_type": "markdown",
   "id": "6399b57b",
   "metadata": {},
   "source": [
    "### 전국의 날씨 데이터를 dict와 list에 저장하기"
   ]
  },
  {
   "cell_type": "code",
   "execution_count": 23,
   "id": "e7f6a551",
   "metadata": {},
   "outputs": [
    {
     "name": "stdout",
     "output_type": "stream",
     "text": [
      "200\n",
      "41\n"
     ]
    }
   ],
   "source": [
    "import requests\n",
    "from bs4 import BeautifulSoup\n",
    "\n",
    "url = 'http://www.kma.go.kr/weather/forecast/mid-term-rss3.jsp'\n",
    "res = requests.get(url)\n",
    "print(res.status_code)\n",
    "\n",
    "if res.ok:\n",
    "    soup = BeautifulSoup(res.text, 'html.parser')\n",
    "    \n",
    "    #41개의 location정보를 저장할 list 선언\n",
    "    location_list = [] #list()\n",
    "    location_tags = soup.find_all('location', attrs={\"wl_ver\":\"3\"})\n",
    "    print(len(location_tags))"
   ]
  }
 ],
 "metadata": {
  "kernelspec": {
   "display_name": "Python 3",
   "language": "python",
   "name": "python3"
  },
  "language_info": {
   "codemirror_mode": {
    "name": "ipython",
    "version": 3
   },
   "file_extension": ".py",
   "mimetype": "text/x-python",
   "name": "python",
   "nbconvert_exporter": "python",
   "pygments_lexer": "ipython3",
   "version": "3.8.8"
  }
 },
 "nbformat": 4,
 "nbformat_minor": 5
}
