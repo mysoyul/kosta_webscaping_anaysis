{
 "cells": [
  {
   "cell_type": "code",
   "execution_count": 4,
   "id": "8c2434ee",
   "metadata": {},
   "outputs": [
    {
     "name": "stdout",
     "output_type": "stream",
     "text": [
      "Name: requests\n",
      "Version: 2.25.1\n",
      "Summary: Python HTTP for Humans.\n",
      "Home-page: https://requests.readthedocs.io\n",
      "Author: Kenneth Reitz\n",
      "Author-email: me@kennethreitz.org\n",
      "License: Apache 2.0\n",
      "Location: c:\\users\\vega2\\anaconda3\\lib\\site-packages\n",
      "Requires: urllib3, certifi, chardet, idna\n",
      "Required-by: Sphinx, jupyterlab-server, conda, conda-repo-cli, conda-build, anaconda-project, anaconda-client\n"
     ]
    }
   ],
   "source": [
    "!pip show requests"
   ]
  },
  {
   "cell_type": "markdown",
   "id": "659711b2",
   "metadata": {},
   "source": [
    "### 네이버 뉴스 제목 가져오기\n",
    "* requests library import\n",
    "* user-agent 헤더 설정 필요"
   ]
  },
  {
   "cell_type": "code",
   "execution_count": 6,
   "id": "31c967d7",
   "metadata": {},
   "outputs": [],
   "source": [
    "import requests\n",
    "from bs4 import BeautifulSoup\n",
    "from urllib.parse import urljoin"
   ]
  },
  {
   "cell_type": "code",
   "execution_count": 14,
   "id": "32d40a55",
   "metadata": {},
   "outputs": [
    {
     "name": "stdout",
     "output_type": "stream",
     "text": [
      "<class 'requests.models.Response'>\n",
      "200\n",
      "True\n"
     ]
    }
   ],
   "source": [
    "url = 'https://news.naver.com/'\n",
    "req_header = {\n",
    "    'user-agent':'Mozilla/5.0 (Windows NT 10.0; Win64; x64) AppleWebKit/537.36 (KHTML, like Gecko) Chrome/95.0.4638.69 Safari/537.36'\n",
    "}\n",
    "res = requests.get(url, headers=req_header)\n",
    "print(type(res))\n",
    "print(res.status_code)\n",
    "print(res.ok)"
   ]
  },
  {
   "cell_type": "markdown",
   "id": "d1f30696",
   "metadata": {},
   "source": [
    "* 응답헤더들과 요청헤더값 확인하기"
   ]
  },
  {
   "cell_type": "code",
   "execution_count": 10,
   "id": "011cb396",
   "metadata": {},
   "outputs": [
    {
     "data": {
      "text/plain": [
       "{'date': 'Thu, 11 Nov 2021 02:29:29 GMT', 'cache-control': 'no-cache', 'expires': 'Thu, 01 Jan 1970 00:00:00 GMT', 'set-cookie': 'JSESSIONID=E6B1147D5C346C735C167B705DD3580D; Path=/main; HttpOnly', 'content-language': 'ko-KR', 'vary': 'Accept-Encoding', 'content-encoding': 'gzip', 'transfer-encoding': 'chunked', 'content-type': 'text/html;charset=EUC-KR', 'referrer-policy': 'unsafe-url', 'server': 'nfront'}"
      ]
     },
     "execution_count": 10,
     "metadata": {},
     "output_type": "execute_result"
    }
   ],
   "source": [
    "# 응답헤더들\n",
    "res.headers"
   ]
  },
  {
   "cell_type": "code",
   "execution_count": 13,
   "id": "620d0391",
   "metadata": {},
   "outputs": [
    {
     "data": {
      "text/plain": [
       "{'user-agent': 'Mozilla/5.0 (Windows NT 10.0; Win64; x64) AppleWebKit/537.36 (KHTML, like Gecko) Chrome/95.0.4638.69 Safari/537.36', 'Accept-Encoding': 'gzip, deflate', 'Accept': '*/*', 'Connection': 'keep-alive'}"
      ]
     },
     "execution_count": 13,
     "metadata": {},
     "output_type": "execute_result"
    }
   ],
   "source": [
    "# 요청헤더들\n",
    "res.request.headers"
   ]
  },
  {
   "cell_type": "markdown",
   "id": "efc2c6b9",
   "metadata": {},
   "source": [
    "* response에 포함된 text 추출하기\n",
    "* 파싱하기 위해서 BeautifulSoup 객체생성\n",
    "* 특정 html 엘리먼트를 추출하기 위해서 BeautifulSoup객체의 select(css 선택자) 함수 사용"
   ]
  },
  {
   "cell_type": "code",
   "execution_count": 31,
   "id": "dccaa16a",
   "metadata": {},
   "outputs": [
    {
     "name": "stdout",
     "output_type": "stream",
     "text": [
      "<class 'bs4.BeautifulSoup'>\n",
      "197\n",
      "<class 'bs4.element.ResultSet'>\n",
      "수능 앞두고 고교 원격수업… 고3, 확진 땐 교육… https://news.naver.com/main/read.naver?mode=LSD&mid=shm&sid1=102&oid=005&aid=0001483474\n",
      "오피스텔 바닥난방 120㎡까지 가능…건축기준 개… https://news.naver.com/main/read.naver?mode=LSD&mid=shm&sid1=101&oid=056&aid=0011154868\n",
      "롯데, 크라우드 펀딩 플랫폼 '와디즈'에 800억 투자 https://news.naver.com/main/read.naver?mode=LSD&mid=shm&sid1=101&oid=374&aid=0000264058\n",
      "[속보]2520명 확진, 사망 21명…위중증 473명 또 최다 https://news.naver.com/main/read.naver?mode=LSD&mid=shm&sid1=102&oid=421&aid=0005716322\n",
      "정성호 “조건부 특검 수용”···이준석 “임명권은 야당이 행사하겠다\" https://news.naver.com/main/read.naver?mode=LSD&mid=shm&sid1=100&oid=011&aid=0003984021\n",
      "요소수 판매처 주유소로 제한...승용차 1대당 10ℓ까지만 판매 https://news.naver.com/main/read.naver?mode=LSD&mid=shm&sid1=102&oid=032&aid=0003109500\n",
      "테슬라 대항마 '리비안' 상장 첫날 주가 30% 폭등…'빅3' 시총 넘었다 https://news.naver.com/main/read.naver?mode=LSD&mid=shm&sid1=104&oid=032&aid=0003109505\n",
      "'정치 1번지' 종로 재보궐의 의미…대선 러닝메이트vs필승카드 [레이더P] http://news.naver.com/main/read.naver?mode=LSD&mid=shm&sid1=100&oid=009&aid=0004877501\n",
      "김부겸 \"요소수 긴급조치 시행…정부 대응 늦어 송구하다\" http://news.naver.com/main/read.naver?mode=LSD&mid=shm&sid1=100&oid=029&aid=0002705642\n",
      "[뉴스1 PICK]윤석열 \"김대중 '국민통합' 정신 잇겠다\"…시민단체 \"목포를 떠나라\" http://news.naver.com/main/read.naver?mode=LSD&mid=shm&sid1=100&oid=421&aid=0005716903\n",
      "정의용 \"종전선언, 한미간 상당히 조율 끝나…쉽진 않을것 같다\" http://news.naver.com/main/read.naver?mode=LSD&mid=shm&sid1=100&oid=001&aid=0012785624\n",
      "국민 10명 중 4명, \"한국의 정치는 3류 수준\"[리얼미터] http://news.naver.com/main/read.naver?mode=LSD&mid=shm&sid1=100&oid=003&aid=0010826205\n",
      "오세훈發 부동산실험, 찻잔 속 태풍 vs 변혁 이끌 바람 https://news.naver.com/main/read.naver?mode=LSD&mid=shm&sid1=101&oid=020&aid=0003392999\n",
      "\"확 올랐다 확 꺼질라\"…불안감 커지는 수도권 급등장 https://news.naver.com/main/read.naver?mode=LSD&mid=shm&sid1=101&oid=277&aid=0004997887\n",
      "[현장연결] 정부 \"요소수 판매처 주유소로 한정…승용차 최대 10리터\" https://news.naver.com/main/read.naver?mode=LSD&mid=shm&sid1=101&oid=422&aid=0000513456\n",
      "현대로템, 2078억원 규모 대만 카오슝 도시철도국 E&M 턴키사업 낙찰 https://news.naver.com/main/read.naver?mode=LSD&mid=shm&sid1=101&oid=018&aid=0005083488\n",
      "전기차 150대 만든 리비안, 상장 첫날 GM 시총과 똑같아졌다 https://news.naver.com/main/read.naver?mode=LSD&mid=shm&sid1=101&oid=025&aid=0003149986\n",
      "美 채권시장 국채 투매…파월의 인내심 어디까지 https://news.naver.com/main/read.naver?mode=LSD&mid=shm&sid1=101&oid=277&aid=0004997882\n",
      "[이달의 기자상] 화천대유, 곽상도 아들에 퇴직금 50억 https://news.naver.com/main/read.naver?mode=LSD&mid=shm&sid1=102&oid=127&aid=0000031799\n",
      "창원시, 제5차 창원형 재난지원금 지급한다 https://news.naver.com/main/read.naver?mode=LSD&mid=shm&sid1=102&oid=003&aid=0010826206\n",
      "대장동 수사 지지부진에···법조계서도 특검 도입 목소리 커져 https://news.naver.com/main/read.naver?mode=LSD&mid=shm&sid1=102&oid=011&aid=0003984060\n",
      "'n번방 개설자' 문형욱 징역 34년, '박사방 2인자' 강훈 징역 15년 확정 https://news.naver.com/main/read.naver?mode=LSD&mid=shm&sid1=102&oid=025&aid=0003149990\n",
      "옛 연인 차량 뒤쫓으며 위협 운전한 남성에 실형 선고 https://news.naver.com/main/read.naver?mode=LSD&mid=shm&sid1=102&oid=056&aid=0011154880\n",
      "'수능 D-7' 모든 고교 원격수업…수능날 점심 때만 칸막이 https://news.naver.com/main/read.naver?mode=LSD&mid=shm&sid1=102&oid=437&aid=0000280570\n",
      "역한 냄새가.. 무리하게 살 빼다 생긴 뜻밖의 일들 https://news.naver.com/main/read.naver?mode=LSD&mid=shm&sid1=103&oid=296&aid=0000052657\n",
      "리딩방 가입 후 받은 의문의 USB…환불 요구하자 \"299만 원\" https://news.naver.com/main/read.naver?mode=LSD&mid=shm&sid1=103&oid=215&aid=0000996229\n",
      "르노 '조에', 10월 독일 전기차 신규등록 '1위' https://news.naver.com/main/read.naver?mode=LSD&mid=shm&sid1=103&oid=629&aid=0000115553\n",
      "‘롤 세계관’으로 세계 1위, 오징어게임 바통 넘겨받은 이 애니 [왓칭] https://news.naver.com/main/read.naver?mode=LSD&mid=shm&sid1=103&oid=023&aid=0003652347\n",
      "[더오래]청량산 아홉구비 절경 노래한 ‘청량구곡가’ 최초 공개 https://news.naver.com/main/read.naver?mode=LSD&mid=shm&sid1=103&oid=025&aid=0003149976\n",
      "'OOO'에 빠진 직장인... 제2의 근무지는 화장실이었다 https://news.naver.com/main/read.naver?mode=LSD&mid=shm&sid1=103&oid=047&aid=0002332359\n",
      "中정부, 헝다그룹 해체 작업 본격화… “200개 도시서 진행” https://news.naver.com/main/read.naver?mode=LSD&mid=shm&sid1=104&oid=366&aid=0000773171\n",
      "미국-중국 인플레이션 급등할 수밖에 없는 이유 3가지 https://news.naver.com/main/read.naver?mode=LSD&mid=shm&sid1=104&oid=421&aid=0005716850\n",
      "\"내년 미국 태양광·풍력 발전설비 설치 사상최대 전망\" https://news.naver.com/main/read.naver?mode=LSD&mid=shm&sid1=104&oid=001&aid=0012785495\n",
      "유럽, ‘코로나 재확산’에 봉쇄조치 대신 백신 접종에 ‘사활’ https://news.naver.com/main/read.naver?mode=LSD&mid=shm&sid1=104&oid=022&aid=0003637181\n",
      "중국 올해 광군제 차분한 분위기…\"매출규모 111조원 넘길것\" https://news.naver.com/main/read.naver?mode=LSD&mid=shm&sid1=104&oid=003&aid=0010826070\n",
      "기시다, 아베 반대 무시하며 하야시 외무상 강행…총선 승리 발판 홀로서기 본격화 https://news.naver.com/main/read.naver?mode=LSD&mid=shm&sid1=104&oid=016&aid=0001911386\n",
      "[종합]디즈니+ 손잡은 LGU+, 월 2만원대에 IPTV·인터넷까지…KT도 모바일 요금제 https://news.naver.com/main/read.naver?mode=LSD&mid=shm&sid1=105&oid=277&aid=0004997855\n",
      "삼성전자, 반도체 패키징도 ‘혁신’…2.5D 패키징 ‘H-큐브’ 개발 https://news.naver.com/main/read.naver?mode=LSD&mid=shm&sid1=105&oid=138&aid=0002113394\n",
      "삼성, 반도체 패키징 솔루션 'H-큐브' 개발…HBM 6개 탑재 https://news.naver.com/main/read.naver?mode=LSD&mid=shm&sid1=105&oid=001&aid=0012785428\n",
      "삼성전자, 차세대 반도체 패키징 ‘H-큐브’ 개발… CPU 하나에 메모리 6개 이상 묶어 https://news.naver.com/main/read.naver?mode=LSD&mid=shm&sid1=105&oid=366&aid=0000773161\n",
      "한화 손잡은 SKT, UAM 공항셔틀 실증 성공…현대차·KT 연합군과 경쟁 격화 https://news.naver.com/main/read.naver?mode=LSD&mid=shm&sid1=105&oid=366&aid=0000773160\n",
      "SKT, '도심항공교통' 통신기술 시연 https://news.naver.com/main/read.naver?mode=LSD&mid=shm&sid1=105&oid=001&aid=0012785391\n",
      "내일부터 유류세 20% 인하…휘발유 ℓ당 164원·경유 1 … https://news.naver.com/main/ranking/read.naver?mode=LSD&mid=shm&sid1=001&oid=056&aid=0011154624&rankingType=RANKING\n",
      "\"김종국 로이더 아니다\"···지원나선 현직 비뇨기과 의사 https://news.naver.com/main/ranking/read.naver?mode=LSD&mid=shm&sid1=001&oid=011&aid=0003983983&rankingType=RANKING\n",
      "\"화재 우려\" 기아차 '카니발' 또 대규모 리콜 https://news.naver.com/main/ranking/read.naver?mode=LSD&mid=shm&sid1=001&oid=032&aid=0003109516&rankingType=RANKING\n",
      "동영상기사 https://news.naver.com/main/ranking/read.naver?mode=LSD&mid=shm&sid1=001&oid=214&aid=0001159263&rankingType=RANKING\n",
      "와서 부딪힌 건 킥보드 운전자인데‥치료비를 내가 부담? https://news.naver.com/main/ranking/read.naver?mode=LSD&mid=shm&sid1=001&oid=214&aid=0001159263&rankingType=RANKING\n",
      "“후진하던 화물차에 깔린 조카…기어서 겨우 살았다” [영상 … https://news.naver.com/main/ranking/read.naver?mode=LSD&mid=shm&sid1=001&oid=005&aid=0001483558&rankingType=RANKING\n",
      "건강에 좋다고 이것 무조건 섭취하면 안돼…심각한 부작용 유 … https://news.naver.com/main/ranking/read.naver?mode=LSD&mid=shm&sid1=001&oid=022&aid=0003636798&rankingType=RANKING\n",
      "동영상기사 https://news.naver.com/main/ranking/read.naver?mode=LSD&mid=shm&sid1=001&oid=052&aid=0001663728&rankingType=RANKING\n",
      "[자막뉴스] 모더나의 충격적인 배신? 미국 정부가 펄쩍 뛰 … https://news.naver.com/main/ranking/read.naver?mode=LSD&mid=shm&sid1=001&oid=052&aid=0001663728&rankingType=RANKING\n",
      "[단독] 8년 만의 실태조사…미용 스태프 시급 6287원  … https://news.naver.com/main/ranking/read.naver?mode=LSD&mid=shm&sid1=001&oid=028&aid=0002567370&rankingType=RANKING\n",
      "한국어 기원은 9000년前 중국 동북부 요하의 농경민 https://news.naver.com/main/ranking/read.naver?mode=LSD&mid=shm&sid1=001&oid=023&aid=0003652304&rankingType=RANKING\n",
      "\"제발 오지마세요!\"..고객 돌려보내는 은행들 https://news.naver.com/main/ranking/read.naver?mode=LSD&mid=shm&sid1=001&oid=018&aid=0005083192&rankingType=RANKING\n",
      "“10% 팔까?” 물었던 머스크, 테슬라 주식 1.3조원어 … https://news.naver.com/main/ranking/read.naver?mode=LSD&mid=shm&sid1=001&oid=081&aid=0003229061&rankingType=RANKING\n",
      "'백종원 볼카츠' 논란에…연돈 사장 결국 입 열었다 https://news.naver.com/main/ranking/read.naver?mode=LSD&mid=shm&sid1=001&oid=015&aid=0004627085&rankingType=RANKING\n",
      "정성호 \"김혜경, 몇바늘 꿰맨 것…이재명과 금슬 굉장히 좋 … https://news.naver.com/main/ranking/read.naver?mode=LSD&mid=shm&sid1=001&oid=025&aid=0003149947&rankingType=RANKING\n",
      "국민 70%가 반대하는데... 민주당은 왜 '이재명표 재난 … https://news.naver.com/main/ranking/read.naver?mode=LSD&mid=shm&sid1=001&oid=469&aid=0000640460&rankingType=RANKING\n",
      "'오월정신 반듯이' 윤석열 방명록에 \"한글 몰라\" vs \" … https://news.naver.com/main/ranking/read.naver?mode=LSD&mid=shm&sid1=001&oid=437&aid=0000280559&rankingType=RANKING\n",
      "내년부터 서울 중학교 신입생 모두에게 태블릿PC 준다 https://news.naver.com/main/ranking/read.naver?mode=LSD&mid=shm&sid1=001&oid=421&aid=0005716445&rankingType=RANKING\n",
      "동영상기사 https://news.naver.com/main/ranking/read.naver?mode=LSD&mid=shm&sid1=001&oid=422&aid=0000513444&rankingType=RANKING\n",
      "이재명 \"음주 경력자보다 초보운전이 더 실수 위험\" https://news.naver.com/main/ranking/read.naver?mode=LSD&mid=shm&sid1=001&oid=422&aid=0000513444&rankingType=RANKING\n",
      "모든 코로나 변이에 맞설 수 있는 항체 발견 https://news.naver.com/main/ranking/read.naver?mode=LSD&mid=shm&sid1=001&oid=277&aid=0004997610&rankingType=RANKING\n",
      "\"하루 400만원 번다\"…유명 연예인들도 군침 삼키는 이  … https://news.naver.com/main/ranking/read.naver?mode=LSD&mid=shm&sid1=001&oid=009&aid=0004877361&rankingType=RANKING\n",
      "아이폰 닦는 천 2만원에 파는 애플…삼성 “이런걸 돈 받나 … https://news.naver.com/main/ranking/read.naver?mode=LSD&mid=shm&sid1=001&oid=016&aid=0001911087&rankingType=RANKING\n",
      "동영상기사 https://news.naver.com/main/ranking/read.naver?mode=LSD&mid=shm&sid1=001&oid=055&aid=0000932731&rankingType=RANKING\n",
      "\"집사처럼 일했다\" 증언 나선 정봉주 아내 회사 직원들 https://news.naver.com/main/ranking/read.naver?mode=LSD&mid=shm&sid1=001&oid=055&aid=0000932731&rankingType=RANKING\n",
      "위중증 환자 473명, 역대 최다…신규 확진 2,520명 https://news.naver.com/main/ranking/read.naver?mode=LSD&mid=shm&sid1=001&oid=449&aid=0000217689&rankingType=RANKING\n",
      "사우디 간 김현종 '요소 확보'…\"연간 8만톤까지\"[이슈시 … https://news.naver.com/main/ranking/read.naver?mode=LSD&mid=shm&sid1=001&oid=079&aid=0003573665&rankingType=RANKING\n",
      "'반듯이 세우겠다' 윤석열 방명록에…이재명 측 \"한글 모르 … https://news.naver.com/main/ranking/read.naver?mode=LSD&mid=shm&sid1=001&oid=057&aid=0001620598&rankingType=RANKING\n",
      "\"주유소 내일가세요\"…휘발유 164원·경유 116원↓ https://news.naver.com/main/ranking/read.naver?mode=LSD&mid=shm&sid1=001&oid=215&aid=0000996125&rankingType=RANKING\n",
      "화성 암석 갈았더니 삼각형 무늬가 나왔다? [여기는 화성] https://news.naver.com/main/ranking/read.naver?mode=LSD&mid=shm&sid1=001&oid=092&aid=0002238856&rankingType=RANKING\n",
      "스페이스X, 우주비행사 귀환 이틀만에 '4인조' 또 우주로 https://news.naver.com/main/ranking/read.naver?mode=LSD&mid=shm&sid1=001&oid=293&aid=0000036920&rankingType=RANKING\n",
      "\"아기 피부색이 우리와 달라\"…남의 아기 임신한 美 부부  … https://news.naver.com/main/ranking/read.naver?mode=LSD&mid=shm&sid1=001&oid=008&aid=0004668910&rankingType=RANKING\n",
      "내일부터 유류세 20% 인하…휘발유 ℓ당 164원·경유 1 … https://news.naver.com/main/ranking/read.naver?mode=LSD&mid=shm&sid1=001&oid=001&aid=0012784644&rankingType=RANKING\n",
      "김경수 전 지사 부인, 새벽에 남편 페이스북에 글 올린 이 … https://news.naver.com/main/ranking/read.naver?mode=LSD&mid=shm&sid1=001&oid=047&aid=0002332344&rankingType=RANKING\n",
      "\"생방송 중 신음 소리가\".. 여성 BJ, 남성 팬과 성관 … https://news.naver.com/main/ranking/read.naver?mode=LSD&mid=shm&sid1=001&oid=014&aid=0004737802&rankingType=RANKING\n",
      "동영상기사 https://news.naver.com/main/ranking/read.naver?mode=LSD&mid=shm&sid1=001&oid=448&aid=0000343673&rankingType=RANKING\n",
      "세금 폭탄 현실화?…종부세 고지서 이달 22일쯤 발송 https://news.naver.com/main/ranking/read.naver?mode=LSD&mid=shm&sid1=001&oid=448&aid=0000343673&rankingType=RANKING\n",
      "이재명, '백래시 분열의 정치'에 올라타나? https://news.naver.com/main/ranking/read.naver?mode=LSD&mid=shm&sid1=001&oid=002&aid=0002218451&rankingType=RANKING\n",
      "제네시스, 맨해튼에 첫 문화공간 '제네시스 하우스 뉴욕'  … https://news.naver.com/main/ranking/read.naver?mode=LSD&mid=shm&sid1=001&oid=030&aid=0002981200&rankingType=RANKING\n",
      "\"인스타 맛집에서 무시당한 엄마, 속상해 눈물이 납니다\" https://news.naver.com/main/ranking/read.naver?mode=LSD&mid=shm&sid1=001&oid=119&aid=0002546922&rankingType=RANKING\n",
      "[속보] n번방 문형욱 징역34년·박사방 강훈 징역15년  … https://news.naver.com/main/ranking/read.naver?mode=LSD&mid=shm&sid1=001&oid=082&aid=0001127062&rankingType=RANKING\n",
      "윤석열측, '반듯이' 논란에 \"한글마저 곡해하지 말라\" https://news.naver.com/main/ranking/read.naver?mode=LSD&mid=shm&sid1=001&oid=003&aid=0010825755&rankingType=RANKING\n",
      "[단독]英옥스퍼드大 “한국 코로나 방역 강도, G20 최저 … https://news.naver.com/main/ranking/read.naver?mode=LSD&mid=shm&sid1=001&oid=020&aid=0003392843&rankingType=RANKING\n",
      "‘대선病’ 걸린 여권, ‘뒷북 국정’에 ‘표적 공격’만 https://news.naver.com/main/ranking/read.naver?mode=LSD&mid=shm&sid1=001&oid=021&aid=0002491901&rankingType=RANKING\n",
      "[컨콜] 엔씨, 한국·대만·홍콩 1위 리니지W…일평균 매출 … https://news.naver.com/main/ranking/read.naver?mode=LSD&mid=shm&sid1=001&oid=138&aid=0002113380&rankingType=RANKING\n",
      "코로나 신규확진 2520명… 위중증 환자 473명 ‘최대’ https://news.naver.com/main/ranking/read.naver?mode=LSD&mid=shm&sid1=001&oid=366&aid=0000773126&rankingType=RANKING\n",
      "\"7억 줄때 나가자\"…씨티은행, 파격조건에 10명 중 7명 … https://news.naver.com/main/ranking/read.naver?mode=LSD&mid=shm&sid1=001&oid=088&aid=0000730421&rankingType=RANKING\n",
      "얇은 자켓에 여름 트레킹화... 설악 타던 30대 한파에  … https://news.naver.com/main/ranking/read.naver?mode=LSD&mid=shm&sid1=001&oid=094&aid=0000009529&rankingType=RANKING\n",
      "머스크, 테슬라 주식 2조7천억원어치 매각 https://news.naver.com/main/ranking/read.naver?mode=LSD&mid=shm&sid1=001&oid=374&aid=0000264059&rankingType=RANKING\n",
      "[단독] 숭실대, 총장 인터뷰 싣느라 '조중동'에 7200 … https://news.naver.com/main/ranking/read.naver?mode=LSD&mid=shm&sid1=001&oid=006&aid=0000110440&rankingType=RANKING\n",
      "“나는 여성” 주장한 남성의 여탕 출입에 발칵 뒤집힌 미국 https://news.naver.com/main/ranking/read.naver?mode=LSD&mid=shm&sid1=001&oid=262&aid=0000014942&rankingType=RANKING\n",
      "\"덕분에 성장했다\" 11년 전 퇴사한 직원에 한우 보낸 회 … https://news.naver.com/main/ranking/read.naver?mode=LSD&mid=shm&sid1=001&oid=031&aid=0000635094&rankingType=RANKING\n",
      "\"남자는 집, 여자는 집값의 10% 혼수? 미친짓\"…이유  … https://news.naver.com/main/ranking/read.naver?mode=LSD&mid=shm&sid1=001&oid=029&aid=0002705535&rankingType=RANKING\n",
      "[속보] 코로나 신규확진 2520명…위중증 473명 역대  … https://news.naver.com/main/ranking/read.naver?mode=LSD&mid=shm&sid1=001&oid=629&aid=0000115517&rankingType=RANKING\n",
      "2021.11.11 Cartoon https://news.naver.com/main/ranking/read.naver?mode=LSD&mid=shm&sid1=001&oid=640&aid=0000018081&rankingType=RANKING\n",
      "\"없다 해도 가면 판다?\"…'요소수 품절' 주유소의 진실 https://news.naver.com/main/ranking/read.naver?mode=LSD&mid=shm&sid1=001&oid=586&aid=0000031059&rankingType=RANKING\n",
      "라면 한그릇 먹으러…전국에서 이 시골 슈퍼를 찾는다 https://news.naver.com/main/ranking/read.naver?mode=LSD&mid=shm&sid1=001&oid=087&aid=0000867785&rankingType=RANKING\n",
      "지리산과 맞짱 뜨는 명당, 구례 사성암 기운의 뿌리 https://news.naver.com/main/ranking/read.naver?mode=LSD&mid=shm&sid1=001&oid=053&aid=0000029955&rankingType=RANKING\n",
      "언론사 경쟁 과열로 대형 오보 낳았던 '2002년 수능 보 … https://news.naver.com/main/ranking/read.naver?mode=LSD&mid=shm&sid1=001&oid=127&aid=0000031786&rankingType=RANKING\n",
      "투썸에 밀리고 메가에 치이고…커피 업계 1위 이디야, 아  … https://news.naver.com/main/ranking/read.naver?mode=LSD&mid=shm&sid1=001&oid=024&aid=0000071456&rankingType=RANKING\n",
      "유방암 위험 ‘뚝’ 떨어뜨리는 음식 https://news.naver.com/main/ranking/read.naver?mode=LSD&mid=shm&sid1=001&oid=296&aid=0000052650&rankingType=RANKING\n",
      "美·中 광물자원 전쟁, 아킬레스건 꼬집는다 https://news.naver.com/main/ranking/read.naver?mode=LSD&mid=shm&sid1=001&oid=037&aid=0000029951&rankingType=RANKING\n",
      "석탄재 사업에 뛰어든 기자...토호세력과 검은 돈 https://news.naver.com/main/ranking/read.naver?mode=LSD&mid=shm&sid1=001&oid=607&aid=0000000939&rankingType=RANKING\n",
      "[Graphic News] S. Korean exports … https://news.naver.com/main/ranking/read.naver?mode=LSD&mid=shm&sid1=001&oid=044&aid=0000232176&rankingType=RANKING\n",
      "[날씨] 초겨울 추위 계속...전국 눈비 오락가락 https://news.naver.com/main/ranking/read.naver?mode=LSD&mid=shm&sid1=001&oid=310&aid=0000091880&rankingType=RANKING\n",
      "LG전자, 르노·벤츠 손잡고 전기차 전장으로 나간다 https://news.naver.com/main/ranking/read.naver?mode=LSD&mid=shm&sid1=001&oid=050&aid=0000058990&rankingType=RANKING\n",
      "“반려견 입장 가능하십니다.” “와아 감사합니다.” https://news.naver.com/main/ranking/read.naver?mode=LSD&mid=shm&sid1=001&oid=308&aid=0000029728&rankingType=RANKING\n",
      "노인은 성범죄자 될 수 없다? https://news.naver.com/main/ranking/read.naver?mode=LSD&mid=shm&sid1=001&oid=036&aid=0000045638&rankingType=RANKING\n",
      "'이 약' 먹고 있다면 오메가3 복용 금물 https://news.naver.com/main/ranking/read.naver?mode=LSD&mid=shm&sid1=001&oid=346&aid=0000045802&rankingType=RANKING\n",
      "‘폭포의 여왕’ 할머니의 실패담에 마음 끌리는 이유 https://news.naver.com/main/ranking/read.naver?mode=LSD&mid=shm&sid1=001&oid=007&aid=0000006940&rankingType=RANKING\n",
      "박용만, 두 아들과 두산 떠났다 https://news.naver.com/main/ranking/read.naver?mode=LSD&mid=shm&sid1=001&oid=648&aid=0000004741&rankingType=RANKING\n",
      "화이자 백신 임상시험 부실 폭로…방역당국 \"공식입장과 해외 … https://news.naver.com/main/ranking/read.naver?mode=LSD&mid=shm&sid1=001&oid=584&aid=0000016691&rankingType=RANKING\n",
      "'7억원 퇴직금'에 2500여명 몰려…한국씨티 '역대급'  … https://news.naver.com/main/ranking/read.naver?mode=LSD&mid=shm&sid1=001&oid=243&aid=0000018351&rankingType=RANKING\n",
      "전국 디젤차 한숨 돌렸다… 자동차용 요소수 2.5개월치 확 … https://news.naver.com/main/ranking/read.naver?mode=LSD&mid=shm&sid1=001&oid=417&aid=0000753131&rankingType=RANKING\n",
      "[대선주자 여론조사]  [한국갤럽-머니투데이] ‘ … https://news.naver.com/main/ranking/read.naver?mode=LSD&mid=shm&sid1=001&oid=123&aid=0002259282&rankingType=RANKING\n",
      "전국 디젤차 한숨 돌렸다… 자동차용 요소수 2.5개월치 확 … https://news.naver.com/main/ranking/read.naver?mode=LSD&mid=shm&sid1=001&oid=417&aid=0000753131&rankingType=RANKING\n",
      "[대선주자 여론조사]  [한국갤럽-머니투데이] ‘ … https://news.naver.com/main/ranking/read.naver?mode=LSD&mid=shm&sid1=001&oid=123&aid=0002259282&rankingType=RANKING\n",
      "대통령도 못 흔든다? TV 시사코미디 활발한 미국·유럽 https://news.naver.com/main/ranking/read.naver?mode=LSD&mid=shm&sid1=001&oid=033&aid=0000043312&rankingType=RANKING\n",
      "‘비트코인 도미넌스’ 위력 여전해 알트코인은 ‘게걸음’ https://news.naver.com/main/ranking/read.naver?mode=LSD&mid=shm&sid1=001&oid=353&aid=0000040865&rankingType=RANKING\n",
      "하체·복부 지방 고민···소금만 줄이면 된다? https://news.naver.com/main/ranking/read.naver?mode=LSD&mid=shm&sid1=001&oid=145&aid=0000015589&rankingType=RANKING\n"
     ]
    }
   ],
   "source": [
    "if res.ok:\n",
    "    # 소스보기에서 보여지는 text\n",
    "    html = res.text\n",
    "    soup = BeautifulSoup(html, 'html.parser')\n",
    "    print(type(soup))\n",
    "    print(len(soup.select(\"a[href*='read.naver']\")))\n",
    "    atags = soup.select(\"a[href*='read.naver']\")\n",
    "    print(type(atags))\n",
    "    for atag in atags:\n",
    "        title = atag.text.strip()\n",
    "        if title:\n",
    "            href = urljoin(url, atag['href'])\n",
    "            print(title, href)\n",
    "        "
   ]
  },
  {
   "cell_type": "markdown",
   "id": "2f4af5e2",
   "metadata": {},
   "source": [
    "### 네이버 웹툰Image 다운로드 \n",
    "* referer 라는 header 설정이 필요함\n",
    "* binary data를 추출할때는 response.content 속성을 사용함"
   ]
  },
  {
   "cell_type": "code",
   "execution_count": 32,
   "id": "a0314a63",
   "metadata": {},
   "outputs": [],
   "source": [
    "import requests\n",
    "import os"
   ]
  },
  {
   "cell_type": "code",
   "execution_count": 44,
   "id": "4e325b75",
   "metadata": {},
   "outputs": [
    {
     "name": "stdout",
     "output_type": "stream",
     "text": [
      "200\n",
      "writing to 20211019104128_21e29756995a8563f22ee06b74862b3c_IMAG01_1.jpg (119570) bytes\n",
      "200\n",
      "writing to 20211019104128_21e29756995a8563f22ee06b74862b3c_IMAG01_2.jpg (83072) bytes\n",
      "200\n",
      "writing to 20211019104128_21e29756995a8563f22ee06b74862b3c_IMAG01_3.jpg (139399) bytes\n"
     ]
    }
   ],
   "source": [
    "req_header = {\n",
    "    'referer':'https://comic.naver.com/webtoon/detail?titleId=748105&no=123&amp;weekday=thu'\n",
    "}\n",
    "img_urls = ['https://image-comic.pstatic.net/webtoon/748105/123/20211019104128_21e29756995a8563f22ee06b74862b3c_IMAG01_1.jpg',\n",
    "            'https://image-comic.pstatic.net/webtoon/748105/123/20211019104128_21e29756995a8563f22ee06b74862b3c_IMAG01_2.jpg',\n",
    "            'https://image-comic.pstatic.net/webtoon/748105/123/20211019104128_21e29756995a8563f22ee06b74862b3c_IMAG01_3.jpg']\n",
    "for img_url in img_urls:\n",
    "    res = requests.get(img_url, headers=req_header)\n",
    "    print(res.status_code)\n",
    "    #binary data\n",
    "    img_data = res.content\n",
    "    file_name = os.path.basename(img_url)\n",
    "    #file mode : wb(write binary)\n",
    "    with open(file_name, 'wb') as file:\n",
    "        print(f'writing to {file_name} ({len(img_data)}) bytes')\n",
    "        file.write(img_data)"
   ]
  },
  {
   "cell_type": "markdown",
   "id": "1a43a2b1",
   "metadata": {},
   "source": [
    "### Image 업로드\n",
    "* http://httpbin.org 에 다운로드 받은 image를 업로드하기\n",
    "* requests의 post() 함수사용, files속성에 image data 설정하기"
   ]
  },
  {
   "cell_type": "code",
   "execution_count": 49,
   "id": "12148281",
   "metadata": {},
   "outputs": [
    {
     "name": "stdout",
     "output_type": "stream",
     "text": [
      "200\n"
     ]
    }
   ],
   "source": [
    "import requests\n",
    "\n",
    "# rb(read binary) mode\n",
    "upload_files_dict = {\n",
    "    'img1': open('f1.jpg','rb'),\n",
    "    'img2': open('f2.jpg','rb'),\n",
    "    'img3': open('f3.jpg','rb')\n",
    "}\n",
    "\n",
    "url = 'http://httpbin.org/post'\n",
    "res = requests.post(url, files=upload_files_dict)\n",
    "print(res.status_code)\n",
    "#res.json()"
   ]
  },
  {
   "cell_type": "code",
   "execution_count": 51,
   "id": "1169065c",
   "metadata": {},
   "outputs": [],
   "source": [
    "img2 = res.json()['files']['img2']\n",
    "#img2"
   ]
  },
  {
   "cell_type": "markdown",
   "id": "240398d0",
   "metadata": {},
   "source": [
    "### Papago 번역 API 사용하기\n",
    "* urllib 을 사용한 예제"
   ]
  },
  {
   "cell_type": "code",
   "execution_count": 52,
   "id": "343bd91a",
   "metadata": {},
   "outputs": [
    {
     "name": "stdout",
     "output_type": "stream",
     "text": [
      "{\"message\":{\"@type\":\"response\",\"@service\":\"naverservice.nmt.proxy\",\"@version\":\"1.0.0\",\"result\":{\"srcLangType\":\"ko\",\"tarLangType\":\"en\",\"translatedText\":\"Nice to meet you.\",\"engineType\":\"PRETRANS\",\"pivot\":null}}}\n"
     ]
    }
   ],
   "source": [
    "import os\n",
    "import sys\n",
    "import urllib.request\n",
    "client_id = \"GgzbgTBW1vPxjyg0W7ud\" # 개발자센터에서 발급받은 Client ID 값\n",
    "client_secret = \"gpTTLglJV_\" # 개발자센터에서 발급받은 Client Secret 값\n",
    "encText = urllib.parse.quote(\"반갑습니다\")\n",
    "data = \"source=ko&target=en&text=\" + encText\n",
    "url = \"https://openapi.naver.com/v1/papago/n2mt\"\n",
    "request = urllib.request.Request(url)\n",
    "request.add_header(\"X-Naver-Client-Id\",client_id)\n",
    "request.add_header(\"X-Naver-Client-Secret\",client_secret)\n",
    "response = urllib.request.urlopen(request, data=data.encode(\"utf-8\"))\n",
    "rescode = response.getcode()\n",
    "if(rescode==200):\n",
    "    response_body = response.read()\n",
    "    print(response_body.decode('utf-8'))\n",
    "else:\n",
    "    print(\"Error Code:\" + rescode)"
   ]
  },
  {
   "cell_type": "markdown",
   "id": "a1991a0c",
   "metadata": {},
   "source": [
    "* requests 사용한 예제로 변경하기"
   ]
  },
  {
   "cell_type": "code",
   "execution_count": 60,
   "id": "de26c6f2",
   "metadata": {},
   "outputs": [
    {
     "name": "stdout",
     "output_type": "stream",
     "text": [
      "200\n",
      "{'message': {'@type': 'response', '@service': 'naverservice.nmt.proxy', '@version': '1.0.0', 'result': {'srcLangType': 'en', 'tarLangType': 'ko', 'translatedText': '어제는 내 모든 문제가 너무 멀리 있는 것 같았다.', 'engineType': 'N2MT', 'pivot': None}}}\n",
      "어제는 내 모든 문제가 너무 멀리 있는 것 같았다.\n"
     ]
    }
   ],
   "source": [
    "import requests\n",
    "\n",
    "client_id = \"GgzbgTBW1vPxjyg0W7ud\" # 개발자센터에서 발급받은 Client ID 값\n",
    "client_secret = \"gpTTLglJV_\" # 개발자센터에서 발급받은 Client Secret 값\n",
    "url = \"https://openapi.naver.com/v1/papago/n2mt\"\n",
    "\n",
    "encText = 'Yesterday all my troubles seemed so far away.'\n",
    "\n",
    "# request header 설정\n",
    "req_header_dict = {\n",
    "    \"X-Naver-Client-Id\":client_id,\n",
    "    \"X-Naver-Client-Secret\":client_secret\n",
    "}\n",
    "# request parameter 설정\n",
    "req_param_dict = {\n",
    "    \"source\":\"en\",\n",
    "    \"target\":\"ko\",\n",
    "    \"text\":encText\n",
    "}\n",
    "res = requests.post(url, headers=req_header_dict, data=req_param_dict)\n",
    "print(res.status_code)\n",
    "if res.ok:\n",
    "    #print(type(res.text), type(res.json()))\n",
    "    result = res.json()\n",
    "    print(result)\n",
    "    transText = result['message']['result']['translatedText']\n",
    "    print(transText)\n",
    "else:\n",
    "    print(f'Error code : {res.status_code}')"
   ]
  },
  {
   "cell_type": "code",
   "execution_count": null,
   "id": "57203a0a",
   "metadata": {},
   "outputs": [],
   "source": []
  }
 ],
 "metadata": {
  "kernelspec": {
   "display_name": "Python 3",
   "language": "python",
   "name": "python3"
  },
  "language_info": {
   "codemirror_mode": {
    "name": "ipython",
    "version": 3
   },
   "file_extension": ".py",
   "mimetype": "text/x-python",
   "name": "python",
   "nbconvert_exporter": "python",
   "pygments_lexer": "ipython3",
   "version": "3.8.8"
  }
 },
 "nbformat": 4,
 "nbformat_minor": 5
}
