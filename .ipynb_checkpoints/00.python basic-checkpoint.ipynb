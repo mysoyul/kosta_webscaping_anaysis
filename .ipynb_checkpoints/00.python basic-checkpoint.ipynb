{
 "cells": [
  {
   "cell_type": "code",
   "execution_count": 2,
   "id": "029f7ffa",
   "metadata": {},
   "outputs": [
    {
     "name": "stdout",
     "output_type": "stream",
     "text": [
      "파일명은 aa.jpg 입니다.\n"
     ]
    }
   ],
   "source": [
    "file_name = 'aa.jpg'\n",
    "print('파일명은 {} 입니다.'.format(file_name))"
   ]
  },
  {
   "cell_type": "code",
   "execution_count": 4,
   "id": "ed8d1284",
   "metadata": {},
   "outputs": [
    {
     "name": "stdout",
     "output_type": "stream",
     "text": [
      "파일명은 aa.jpg 입니다.\n"
     ]
    }
   ],
   "source": [
    "print(f'파일명은 {file_name} 입니다.')"
   ]
  },
  {
   "cell_type": "code",
   "execution_count": 10,
   "id": "398048d2",
   "metadata": {},
   "outputs": [
    {
     "name": "stdout",
     "output_type": "stream",
     "text": [
      "1 10\n",
      "2 11\n",
      "3 12\n",
      "4 13\n",
      "5 14\n",
      "6 15\n",
      "7 16\n",
      "8 17\n",
      "9 18\n",
      "10 19\n"
     ]
    }
   ],
   "source": [
    "for idx,val in enumerate(range(10,20),1):\n",
    "    print(idx, val)"
   ]
  },
  {
   "cell_type": "code",
   "execution_count": 11,
   "id": "6d086d82",
   "metadata": {},
   "outputs": [
    {
     "data": {
      "text/plain": [
       "['a', 'b', 'c', 'd']"
      ]
     },
     "execution_count": 11,
     "metadata": {},
     "output_type": "execute_result"
    }
   ],
   "source": [
    "my_text = \"a,b,c,d\"\n",
    "result = my_text.split(',')\n",
    "result"
   ]
  },
  {
   "cell_type": "code",
   "execution_count": 13,
   "id": "1287ec6b",
   "metadata": {},
   "outputs": [
    {
     "name": "stdout",
     "output_type": "stream",
     "text": [
      "['banana', 'apple']\n"
     ]
    }
   ],
   "source": [
    "# List comprehension (포괄적인 리스트) \n",
    "# before\n",
    "fruits = ['banana','apple','kiwi']\n",
    "new_list = []\n",
    "\n",
    "for fu in fruits:\n",
    "    if 'a' in fu:\n",
    "        new_list.append(fu)\n",
    "\n",
    "print(new_list)        "
   ]
  },
  {
   "cell_type": "code",
   "execution_count": 15,
   "id": "614f9089",
   "metadata": {},
   "outputs": [
    {
     "data": {
      "text/plain": [
       "['banana', 'apple']"
      ]
     },
     "execution_count": 15,
     "metadata": {},
     "output_type": "execute_result"
    }
   ],
   "source": [
    "#after\n",
    "a_list = [fu for fu in fruits if 'a' in fu]\n",
    "a_list"
   ]
  },
  {
   "cell_type": "code",
   "execution_count": 1,
   "id": "1e5dad19",
   "metadata": {},
   "outputs": [
    {
     "name": "stdout",
     "output_type": "stream",
     "text": [
      "ab\n",
      "d\te\n",
      "ab c d e\n",
      "abcde\n"
     ]
    }
   ],
   "source": [
    "import re\n",
    "\n",
    "my_str = 'ab\\nc\\rd\\te'\n",
    "print(my_str)\n",
    "\n",
    "#정규표현식 Pattern 객체생성\n",
    "regexp = re.compile(r'[\\n\\r\\t]')\n",
    "#Pattern에 해당되는 문자열을 replace\n",
    "result = regexp.sub(\" \", my_str)\n",
    "result2 = result.replace(\" \",\"\")\n",
    "print(result)\n",
    "print(result2)"
   ]
  },
  {
   "cell_type": "code",
   "execution_count": 6,
   "id": "7d3a7df5-e177-4256-be28-363981235cb0",
   "metadata": {},
   "outputs": [
    {
     "name": "stdout",
     "output_type": "stream",
     "text": [
      "[1, 2, 3, 4, 5, 6, 7, 8, 9]\n",
      "1\n",
      "2\n",
      "3\n",
      "4\n",
      "5\n",
      "6\n",
      "7\n",
      "8\n",
      "9\n"
     ]
    }
   ],
   "source": [
    "print(list(range(1,10)))\n",
    "for val in range(1,10):\n",
    "    print(val)"
   ]
  },
  {
   "cell_type": "code",
   "execution_count": 7,
   "id": "1110b97b-5b57-4e1b-b45a-6dfddbd57980",
   "metadata": {},
   "outputs": [
    {
     "data": {
      "text/plain": [
       "array([1, 2, 3, 4, 5, 6, 7, 8, 9])"
      ]
     },
     "execution_count": 7,
     "metadata": {},
     "output_type": "execute_result"
    }
   ],
   "source": [
    "import numpy as np\n",
    "\n",
    "np.arange(1,10)"
   ]
  },
  {
   "cell_type": "code",
   "execution_count": 8,
   "id": "583284dc-94a5-49f9-aead-44e075083fc0",
   "metadata": {},
   "outputs": [],
   "source": [
    "#tuple 반환하는 함수 \n",
    "def swap(a,b):\n",
    "    return (b,a)"
   ]
  },
  {
   "cell_type": "code",
   "execution_count": 10,
   "id": "da255967-ea29-4fb7-8d3e-ea906ed8f954",
   "metadata": {},
   "outputs": [
    {
     "name": "stdout",
     "output_type": "stream",
     "text": [
      "20\n",
      "10\n"
     ]
    }
   ],
   "source": [
    "a,b = swap(10,20)\n",
    "print(a)\n",
    "print(b)"
   ]
  },
  {
   "cell_type": "code",
   "execution_count": 12,
   "id": "c98da229-8974-4cad-a392-83cc8f71bf16",
   "metadata": {},
   "outputs": [
    {
     "name": "stdout",
     "output_type": "stream",
     "text": [
      "100\n",
      "200\n"
     ]
    }
   ],
   "source": [
    "n1,n2,n3 = [100,200,300]\n",
    "print(n1)\n",
    "print(n2)"
   ]
  }
 ],
 "metadata": {
  "kernelspec": {
   "display_name": "Python 3",
   "language": "python",
   "name": "python3"
  },
  "language_info": {
   "codemirror_mode": {
    "name": "ipython",
    "version": 3
   },
   "file_extension": ".py",
   "mimetype": "text/x-python",
   "name": "python",
   "nbconvert_exporter": "python",
   "pygments_lexer": "ipython3",
   "version": "3.8.8"
  }
 },
 "nbformat": 4,
 "nbformat_minor": 5
}
