{
 "cells": [
  {
   "cell_type": "markdown",
   "id": "1568ce11",
   "metadata": {},
   "source": [
    "### Melon 100 chart 스크래핑\n",
    "* 100곡의 노래제목, ID를 추출하기\n",
    "* Song ID로 상세페이지를 100번 요청해서 곡의 상세정보를 추출\n",
    "* 100곡의 상세정보를 json file에 저장하기\n",
    "* json file을 Pandas의 DataFrame 객체로 저장해서 표데이터를 만들기\n",
    "* DataFrame 객체를 DB의 테이블로 저장하기"
   ]
  },
  {
   "cell_type": "code",
   "execution_count": 1,
   "id": "378c43cd",
   "metadata": {},
   "outputs": [],
   "source": [
    "import requests\n",
    "from bs4 import BeautifulSoup\n",
    "import re\n",
    "\n",
    "url = 'https://www.melon.com/chart/index.htm'\n"
   ]
  },
  {
   "cell_type": "code",
   "execution_count": null,
   "id": "39455430",
   "metadata": {},
   "outputs": [],
   "source": []
  }
 ],
 "metadata": {
  "kernelspec": {
   "display_name": "Python 3",
   "language": "python",
   "name": "python3"
  },
  "language_info": {
   "codemirror_mode": {
    "name": "ipython",
    "version": 3
   },
   "file_extension": ".py",
   "mimetype": "text/x-python",
   "name": "python",
   "nbconvert_exporter": "python",
   "pygments_lexer": "ipython3",
   "version": "3.8.8"
  }
 },
 "nbformat": 4,
 "nbformat_minor": 5
}
