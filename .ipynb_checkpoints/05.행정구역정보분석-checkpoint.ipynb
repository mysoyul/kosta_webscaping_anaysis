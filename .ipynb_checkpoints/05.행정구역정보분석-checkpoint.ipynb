{
 "cells": [
  {
   "cell_type": "markdown",
   "id": "267f7355",
   "metadata": {},
   "source": [
    "### 행정구역정보(CSV)를 읽고, 분석하기\n",
    "* read_csv() 함수로 csv 파일 읽기\n",
    "* 행과열을 선택(Selection)\n",
    "* 상관계수 구하기 \n",
    "* 시각화"
   ]
  },
  {
   "cell_type": "code",
   "execution_count": 1,
   "id": "3cb2debe",
   "metadata": {},
   "outputs": [
    {
     "data": {
      "text/html": [
       "<div>\n",
       "<style scoped>\n",
       "    .dataframe tbody tr th:only-of-type {\n",
       "        vertical-align: middle;\n",
       "    }\n",
       "\n",
       "    .dataframe tbody tr th {\n",
       "        vertical-align: top;\n",
       "    }\n",
       "\n",
       "    .dataframe thead th {\n",
       "        text-align: right;\n",
       "    }\n",
       "</style>\n",
       "<table border=\"1\" class=\"dataframe\">\n",
       "  <thead>\n",
       "    <tr style=\"text-align: right;\">\n",
       "      <th></th>\n",
       "      <th>Unnamed: 0</th>\n",
       "      <th>인구수</th>\n",
       "      <th>shortName</th>\n",
       "      <th>x</th>\n",
       "      <th>y</th>\n",
       "      <th>면적</th>\n",
       "      <th>광역시도</th>\n",
       "      <th>행정구역</th>\n",
       "    </tr>\n",
       "  </thead>\n",
       "  <tbody>\n",
       "    <tr>\n",
       "      <th>0</th>\n",
       "      <td>0</td>\n",
       "      <td>202520</td>\n",
       "      <td>강릉</td>\n",
       "      <td>11</td>\n",
       "      <td>4</td>\n",
       "      <td>1040.07</td>\n",
       "      <td>강원도</td>\n",
       "      <td>강릉시</td>\n",
       "    </tr>\n",
       "    <tr>\n",
       "      <th>1</th>\n",
       "      <td>1</td>\n",
       "      <td>25589</td>\n",
       "      <td>고성(강원)</td>\n",
       "      <td>9</td>\n",
       "      <td>0</td>\n",
       "      <td>664.19</td>\n",
       "      <td>강원도</td>\n",
       "      <td>고성군</td>\n",
       "    </tr>\n",
       "    <tr>\n",
       "      <th>2</th>\n",
       "      <td>2</td>\n",
       "      <td>86747</td>\n",
       "      <td>동해</td>\n",
       "      <td>11</td>\n",
       "      <td>5</td>\n",
       "      <td>180.01</td>\n",
       "      <td>강원도</td>\n",
       "      <td>동해시</td>\n",
       "    </tr>\n",
       "    <tr>\n",
       "      <th>3</th>\n",
       "      <td>3</td>\n",
       "      <td>63986</td>\n",
       "      <td>삼척</td>\n",
       "      <td>11</td>\n",
       "      <td>8</td>\n",
       "      <td>1185.80</td>\n",
       "      <td>강원도</td>\n",
       "      <td>삼척시</td>\n",
       "    </tr>\n",
       "    <tr>\n",
       "      <th>4</th>\n",
       "      <td>4</td>\n",
       "      <td>76733</td>\n",
       "      <td>속초</td>\n",
       "      <td>9</td>\n",
       "      <td>1</td>\n",
       "      <td>105.25</td>\n",
       "      <td>강원도</td>\n",
       "      <td>속초시</td>\n",
       "    </tr>\n",
       "  </tbody>\n",
       "</table>\n",
       "</div>"
      ],
      "text/plain": [
       "   Unnamed: 0     인구수 shortName   x  y       면적 광역시도 행정구역\n",
       "0           0  202520        강릉  11  4  1040.07  강원도  강릉시\n",
       "1           1   25589    고성(강원)   9  0   664.19  강원도  고성군\n",
       "2           2   86747        동해  11  5   180.01  강원도  동해시\n",
       "3           3   63986        삼척  11  8  1185.80  강원도  삼척시\n",
       "4           4   76733        속초   9  1   105.25  강원도  속초시"
      ]
     },
     "execution_count": 1,
     "metadata": {},
     "output_type": "execute_result"
    }
   ],
   "source": [
    "import pandas as pd\n",
    "\n",
    "data = pd.read_csv('data/data_draw_korea.csv')\n",
    "data.head()"
   ]
  },
  {
   "cell_type": "code",
   "execution_count": 2,
   "id": "d593483a",
   "metadata": {},
   "outputs": [
    {
     "name": "stdout",
     "output_type": "stream",
     "text": [
      "<class 'pandas.core.frame.DataFrame'>\n",
      "RangeIndex: 229 entries, 0 to 228\n",
      "Data columns (total 8 columns):\n",
      " #   Column      Non-Null Count  Dtype  \n",
      "---  ------      --------------  -----  \n",
      " 0   Unnamed: 0  229 non-null    int64  \n",
      " 1   인구수         229 non-null    int64  \n",
      " 2   shortName   229 non-null    object \n",
      " 3   x           229 non-null    int64  \n",
      " 4   y           229 non-null    int64  \n",
      " 5   면적          229 non-null    float64\n",
      " 6   광역시도        229 non-null    object \n",
      " 7   행정구역        229 non-null    object \n",
      "dtypes: float64(1), int64(4), object(3)\n",
      "memory usage: 14.4+ KB\n"
     ]
    }
   ],
   "source": [
    "data.info()"
   ]
  },
  {
   "cell_type": "code",
   "execution_count": 3,
   "id": "c6042d8a",
   "metadata": {},
   "outputs": [
    {
     "data": {
      "text/html": [
       "<div>\n",
       "<style scoped>\n",
       "    .dataframe tbody tr th:only-of-type {\n",
       "        vertical-align: middle;\n",
       "    }\n",
       "\n",
       "    .dataframe tbody tr th {\n",
       "        vertical-align: top;\n",
       "    }\n",
       "\n",
       "    .dataframe thead th {\n",
       "        text-align: right;\n",
       "    }\n",
       "</style>\n",
       "<table border=\"1\" class=\"dataframe\">\n",
       "  <thead>\n",
       "    <tr style=\"text-align: right;\">\n",
       "      <th></th>\n",
       "      <th>Unnamed: 0</th>\n",
       "      <th>인구수</th>\n",
       "      <th>x</th>\n",
       "      <th>y</th>\n",
       "      <th>면적</th>\n",
       "    </tr>\n",
       "  </thead>\n",
       "  <tbody>\n",
       "    <tr>\n",
       "      <th>count</th>\n",
       "      <td>229.000000</td>\n",
       "      <td>2.290000e+02</td>\n",
       "      <td>229.000000</td>\n",
       "      <td>229.000000</td>\n",
       "      <td>229.000000</td>\n",
       "    </tr>\n",
       "    <tr>\n",
       "      <th>mean</th>\n",
       "      <td>114.000000</td>\n",
       "      <td>2.110898e+05</td>\n",
       "      <td>6.117904</td>\n",
       "      <td>11.262009</td>\n",
       "      <td>435.419795</td>\n",
       "    </tr>\n",
       "    <tr>\n",
       "      <th>std</th>\n",
       "      <td>66.250786</td>\n",
       "      <td>2.074378e+05</td>\n",
       "      <td>3.320469</td>\n",
       "      <td>6.040898</td>\n",
       "      <td>381.612549</td>\n",
       "    </tr>\n",
       "    <tr>\n",
       "      <th>min</th>\n",
       "      <td>0.000000</td>\n",
       "      <td>8.392000e+03</td>\n",
       "      <td>0.000000</td>\n",
       "      <td>0.000000</td>\n",
       "      <td>2.800000</td>\n",
       "    </tr>\n",
       "    <tr>\n",
       "      <th>25%</th>\n",
       "      <td>57.000000</td>\n",
       "      <td>4.955900e+04</td>\n",
       "      <td>3.000000</td>\n",
       "      <td>6.000000</td>\n",
       "      <td>54.000000</td>\n",
       "    </tr>\n",
       "    <tr>\n",
       "      <th>50%</th>\n",
       "      <td>114.000000</td>\n",
       "      <td>1.401590e+05</td>\n",
       "      <td>6.000000</td>\n",
       "      <td>11.000000</td>\n",
       "      <td>436.400000</td>\n",
       "    </tr>\n",
       "    <tr>\n",
       "      <th>75%</th>\n",
       "      <td>171.000000</td>\n",
       "      <td>3.216180e+05</td>\n",
       "      <td>9.000000</td>\n",
       "      <td>16.000000</td>\n",
       "      <td>692.800000</td>\n",
       "    </tr>\n",
       "    <tr>\n",
       "      <th>max</th>\n",
       "      <td>228.000000</td>\n",
       "      <td>1.125461e+06</td>\n",
       "      <td>13.000000</td>\n",
       "      <td>25.000000</td>\n",
       "      <td>1817.940000</td>\n",
       "    </tr>\n",
       "  </tbody>\n",
       "</table>\n",
       "</div>"
      ],
      "text/plain": [
       "       Unnamed: 0           인구수           x           y           면적\n",
       "count  229.000000  2.290000e+02  229.000000  229.000000   229.000000\n",
       "mean   114.000000  2.110898e+05    6.117904   11.262009   435.419795\n",
       "std     66.250786  2.074378e+05    3.320469    6.040898   381.612549\n",
       "min      0.000000  8.392000e+03    0.000000    0.000000     2.800000\n",
       "25%     57.000000  4.955900e+04    3.000000    6.000000    54.000000\n",
       "50%    114.000000  1.401590e+05    6.000000   11.000000   436.400000\n",
       "75%    171.000000  3.216180e+05    9.000000   16.000000   692.800000\n",
       "max    228.000000  1.125461e+06   13.000000   25.000000  1817.940000"
      ]
     },
     "execution_count": 3,
     "metadata": {},
     "output_type": "execute_result"
    }
   ],
   "source": [
    "data.describe()"
   ]
  },
  {
   "cell_type": "code",
   "execution_count": 4,
   "id": "701db232",
   "metadata": {},
   "outputs": [
    {
     "name": "stdout",
     "output_type": "stream",
     "text": [
      "표준편차  207437.8370475227\n",
      "평균  211089.77729257641\n",
      "중간  140159.0\n",
      "최대  1125461\n",
      "최소  8392\n"
     ]
    }
   ],
   "source": [
    "#인구수 컬럼의 평균, 중간, 최대, 최소\n",
    "print('표준편차 ',data['인구수'].std())\n",
    "print('평균 ',data['인구수'].mean())\n",
    "print('중간 ',data['인구수'].median())\n",
    "print('최대 ',data['인구수'].max())\n",
    "print('최소 ',data['인구수'].min())"
   ]
  },
  {
   "cell_type": "code",
   "execution_count": 5,
   "id": "e01cb22c",
   "metadata": {},
   "outputs": [
    {
     "data": {
      "text/plain": [
       "array(['강원도', '경기도', '경상남도', '경상북도', '광주광역시', '대구광역시', '대전광역시', '부산광역시',\n",
       "       '서울특별시', '세종특별자치시', '울산광역시', '인천광역시', '전라남도', '전라북도', '제주특별자치도',\n",
       "       '충청남도', '충청북도'], dtype=object)"
      ]
     },
     "execution_count": 5,
     "metadata": {},
     "output_type": "execute_result"
    }
   ],
   "source": [
    "#광역시도명(unique)\n",
    "data['광역시도'].unique()"
   ]
  },
  {
   "cell_type": "code",
   "execution_count": 6,
   "id": "0594e9aa",
   "metadata": {},
   "outputs": [
    {
     "data": {
      "text/plain": [
       "경기도        31\n",
       "서울특별시      25\n",
       "경상북도       23\n",
       "전라남도       22\n",
       "강원도        18\n",
       "경상남도       18\n",
       "부산광역시      16\n",
       "충청남도       15\n",
       "전라북도       14\n",
       "충청북도       11\n",
       "인천광역시      10\n",
       "대구광역시       8\n",
       "대전광역시       5\n",
       "울산광역시       5\n",
       "광주광역시       5\n",
       "제주특별자치도     2\n",
       "세종특별자치시     1\n",
       "Name: 광역시도, dtype: int64"
      ]
     },
     "execution_count": 6,
     "metadata": {},
     "output_type": "execute_result"
    }
   ],
   "source": [
    "#광역시도 row count\n",
    "data['광역시도'].value_counts()"
   ]
  },
  {
   "cell_type": "code",
   "execution_count": 7,
   "id": "a99db66e",
   "metadata": {},
   "outputs": [
    {
     "data": {
      "text/plain": [
       "304548.39514203876"
      ]
     },
     "execution_count": 7,
     "metadata": {},
     "output_type": "execute_result"
    }
   ],
   "source": [
    "#경기도의 인구수 표준편차\n",
    "data.loc[data['광역시도'] == '경기도','인구수'].std()"
   ]
  },
  {
   "cell_type": "code",
   "execution_count": 8,
   "id": "dcc317c8",
   "metadata": {},
   "outputs": [
    {
     "data": {
      "text/plain": [
       "125231.24797500289"
      ]
     },
     "execution_count": 8,
     "metadata": {},
     "output_type": "execute_result"
    }
   ],
   "source": [
    "#서울특별시의 인구수 표준편차\n",
    "data.loc[data['광역시도'] == '서울특별시','인구수'].std()"
   ]
  },
  {
   "cell_type": "markdown",
   "id": "0eb4bda0",
   "metadata": {},
   "source": [
    "#### Data Selection\n",
    "* loc, iloc 사용\n",
    "* 슬라이싱 , 조건식, 특정행과 열을 여러개 선택"
   ]
  },
  {
   "cell_type": "code",
   "execution_count": 9,
   "id": "850e5c94",
   "metadata": {},
   "outputs": [
    {
     "data": {
      "text/html": [
       "<div>\n",
       "<style scoped>\n",
       "    .dataframe tbody tr th:only-of-type {\n",
       "        vertical-align: middle;\n",
       "    }\n",
       "\n",
       "    .dataframe tbody tr th {\n",
       "        vertical-align: top;\n",
       "    }\n",
       "\n",
       "    .dataframe thead th {\n",
       "        text-align: right;\n",
       "    }\n",
       "</style>\n",
       "<table border=\"1\" class=\"dataframe\">\n",
       "  <thead>\n",
       "    <tr style=\"text-align: right;\">\n",
       "      <th></th>\n",
       "      <th>행정구역</th>\n",
       "      <th>인구수</th>\n",
       "    </tr>\n",
       "  </thead>\n",
       "  <tbody>\n",
       "    <tr>\n",
       "      <th>0</th>\n",
       "      <td>강릉시</td>\n",
       "      <td>202520</td>\n",
       "    </tr>\n",
       "    <tr>\n",
       "      <th>1</th>\n",
       "      <td>고성군</td>\n",
       "      <td>25589</td>\n",
       "    </tr>\n",
       "    <tr>\n",
       "      <th>2</th>\n",
       "      <td>동해시</td>\n",
       "      <td>86747</td>\n",
       "    </tr>\n",
       "    <tr>\n",
       "      <th>3</th>\n",
       "      <td>삼척시</td>\n",
       "      <td>63986</td>\n",
       "    </tr>\n",
       "    <tr>\n",
       "      <th>4</th>\n",
       "      <td>속초시</td>\n",
       "      <td>76733</td>\n",
       "    </tr>\n",
       "    <tr>\n",
       "      <th>5</th>\n",
       "      <td>양구군</td>\n",
       "      <td>20809</td>\n",
       "    </tr>\n",
       "  </tbody>\n",
       "</table>\n",
       "</div>"
      ],
      "text/plain": [
       "  행정구역     인구수\n",
       "0  강릉시  202520\n",
       "1  고성군   25589\n",
       "2  동해시   86747\n",
       "3  삼척시   63986\n",
       "4  속초시   76733\n",
       "5  양구군   20809"
      ]
     },
     "execution_count": 9,
     "metadata": {},
     "output_type": "execute_result"
    }
   ],
   "source": [
    "#6개의 행과 2개의 컬럼을 선택\n",
    "data.loc[0:5,['행정구역','인구수']]"
   ]
  },
  {
   "cell_type": "code",
   "execution_count": 10,
   "id": "5ff97713",
   "metadata": {},
   "outputs": [
    {
     "data": {
      "text/html": [
       "<div>\n",
       "<style scoped>\n",
       "    .dataframe tbody tr th:only-of-type {\n",
       "        vertical-align: middle;\n",
       "    }\n",
       "\n",
       "    .dataframe tbody tr th {\n",
       "        vertical-align: top;\n",
       "    }\n",
       "\n",
       "    .dataframe thead th {\n",
       "        text-align: right;\n",
       "    }\n",
       "</style>\n",
       "<table border=\"1\" class=\"dataframe\">\n",
       "  <thead>\n",
       "    <tr style=\"text-align: right;\">\n",
       "      <th></th>\n",
       "      <th>행정구역</th>\n",
       "      <th>인구수</th>\n",
       "    </tr>\n",
       "  </thead>\n",
       "  <tbody>\n",
       "    <tr>\n",
       "      <th>0</th>\n",
       "      <td>강릉시</td>\n",
       "      <td>202520</td>\n",
       "    </tr>\n",
       "    <tr>\n",
       "      <th>2</th>\n",
       "      <td>동해시</td>\n",
       "      <td>86747</td>\n",
       "    </tr>\n",
       "    <tr>\n",
       "      <th>4</th>\n",
       "      <td>속초시</td>\n",
       "      <td>76733</td>\n",
       "    </tr>\n",
       "  </tbody>\n",
       "</table>\n",
       "</div>"
      ],
      "text/plain": [
       "  행정구역     인구수\n",
       "0  강릉시  202520\n",
       "2  동해시   86747\n",
       "4  속초시   76733"
      ]
     },
     "execution_count": 10,
     "metadata": {},
     "output_type": "execute_result"
    }
   ],
   "source": [
    "data.loc[0:5:2,['행정구역','인구수']]"
   ]
  },
  {
   "cell_type": "code",
   "execution_count": 11,
   "id": "fb0213dc",
   "metadata": {},
   "outputs": [
    {
     "data": {
      "text/html": [
       "<div>\n",
       "<style scoped>\n",
       "    .dataframe tbody tr th:only-of-type {\n",
       "        vertical-align: middle;\n",
       "    }\n",
       "\n",
       "    .dataframe tbody tr th {\n",
       "        vertical-align: top;\n",
       "    }\n",
       "\n",
       "    .dataframe thead th {\n",
       "        text-align: right;\n",
       "    }\n",
       "</style>\n",
       "<table border=\"1\" class=\"dataframe\">\n",
       "  <thead>\n",
       "    <tr style=\"text-align: right;\">\n",
       "      <th></th>\n",
       "      <th>인구수</th>\n",
       "      <th>shortName</th>\n",
       "      <th>x</th>\n",
       "      <th>y</th>\n",
       "      <th>면적</th>\n",
       "      <th>광역시도</th>\n",
       "    </tr>\n",
       "  </thead>\n",
       "  <tbody>\n",
       "    <tr>\n",
       "      <th>3</th>\n",
       "      <td>63986</td>\n",
       "      <td>삼척</td>\n",
       "      <td>11</td>\n",
       "      <td>8</td>\n",
       "      <td>1185.80</td>\n",
       "      <td>강원도</td>\n",
       "    </tr>\n",
       "    <tr>\n",
       "      <th>7</th>\n",
       "      <td>34966</td>\n",
       "      <td>영월</td>\n",
       "      <td>10</td>\n",
       "      <td>8</td>\n",
       "      <td>1127.36</td>\n",
       "      <td>강원도</td>\n",
       "    </tr>\n",
       "    <tr>\n",
       "      <th>10</th>\n",
       "      <td>34242</td>\n",
       "      <td>정선</td>\n",
       "      <td>11</td>\n",
       "      <td>6</td>\n",
       "      <td>1220.67</td>\n",
       "      <td>강원도</td>\n",
       "    </tr>\n",
       "  </tbody>\n",
       "</table>\n",
       "</div>"
      ],
      "text/plain": [
       "      인구수 shortName   x  y       면적 광역시도\n",
       "3   63986        삼척  11  8  1185.80  강원도\n",
       "7   34966        영월  10  8  1127.36  강원도\n",
       "10  34242        정선  11  6  1220.67  강원도"
      ]
     },
     "execution_count": 11,
     "metadata": {},
     "output_type": "execute_result"
    }
   ],
   "source": [
    "#3,7,10행과 인구수부터 광역시도 컬럼까지\n",
    "data.loc[[3,7,10],'인구수':'광역시도']"
   ]
  },
  {
   "cell_type": "code",
   "execution_count": 28,
   "id": "dbbf60e3",
   "metadata": {},
   "outputs": [
    {
     "data": {
      "text/html": [
       "<div>\n",
       "<style scoped>\n",
       "    .dataframe tbody tr th:only-of-type {\n",
       "        vertical-align: middle;\n",
       "    }\n",
       "\n",
       "    .dataframe tbody tr th {\n",
       "        vertical-align: top;\n",
       "    }\n",
       "\n",
       "    .dataframe thead th {\n",
       "        text-align: right;\n",
       "    }\n",
       "</style>\n",
       "<table border=\"1\" class=\"dataframe\">\n",
       "  <thead>\n",
       "    <tr style=\"text-align: right;\">\n",
       "      <th></th>\n",
       "      <th>행정구역</th>\n",
       "      <th>인구수</th>\n",
       "      <th>면적</th>\n",
       "    </tr>\n",
       "    <tr>\n",
       "      <th>seq</th>\n",
       "      <th></th>\n",
       "      <th></th>\n",
       "      <th></th>\n",
       "    </tr>\n",
       "  </thead>\n",
       "  <tbody>\n",
       "    <tr>\n",
       "      <th>67</th>\n",
       "      <td>경산시</td>\n",
       "      <td>251220</td>\n",
       "      <td>411.58</td>\n",
       "    </tr>\n",
       "    <tr>\n",
       "      <th>68</th>\n",
       "      <td>경주시</td>\n",
       "      <td>242618</td>\n",
       "      <td>1323.85</td>\n",
       "    </tr>\n",
       "    <tr>\n",
       "      <th>69</th>\n",
       "      <td>고령군</td>\n",
       "      <td>31189</td>\n",
       "      <td>383.70</td>\n",
       "    </tr>\n",
       "    <tr>\n",
       "      <th>70</th>\n",
       "      <td>구미시</td>\n",
       "      <td>396685</td>\n",
       "      <td>616.10</td>\n",
       "    </tr>\n",
       "    <tr>\n",
       "      <th>71</th>\n",
       "      <td>군위군</td>\n",
       "      <td>20596</td>\n",
       "      <td>614.15</td>\n",
       "    </tr>\n",
       "  </tbody>\n",
       "</table>\n",
       "</div>"
      ],
      "text/plain": [
       "    행정구역     인구수       면적\n",
       "seq                      \n",
       "67   경산시  251220   411.58\n",
       "68   경주시  242618  1323.85\n",
       "69   고령군   31189   383.70\n",
       "70   구미시  396685   616.10\n",
       "71   군위군   20596   614.15"
      ]
     },
     "execution_count": 28,
     "metadata": {},
     "output_type": "execute_result"
    }
   ],
   "source": [
    "#경상북도의 행정구역,인구수,면적 \n",
    "data.loc[data['광역시도'] == '경상북도',['행정구역','인구수','면적']].head()"
   ]
  },
  {
   "cell_type": "code",
   "execution_count": 29,
   "id": "8b0caed4-ff7c-49a5-88df-eb6609c993ac",
   "metadata": {},
   "outputs": [
    {
     "data": {
      "text/html": [
       "<div>\n",
       "<style scoped>\n",
       "    .dataframe tbody tr th:only-of-type {\n",
       "        vertical-align: middle;\n",
       "    }\n",
       "\n",
       "    .dataframe tbody tr th {\n",
       "        vertical-align: top;\n",
       "    }\n",
       "\n",
       "    .dataframe thead th {\n",
       "        text-align: right;\n",
       "    }\n",
       "</style>\n",
       "<table border=\"1\" class=\"dataframe\">\n",
       "  <thead>\n",
       "    <tr style=\"text-align: right;\">\n",
       "      <th></th>\n",
       "      <th>인구수</th>\n",
       "      <th>shortName</th>\n",
       "      <th>x</th>\n",
       "      <th>y</th>\n",
       "    </tr>\n",
       "    <tr>\n",
       "      <th>seq</th>\n",
       "      <th></th>\n",
       "      <th></th>\n",
       "      <th></th>\n",
       "      <th></th>\n",
       "    </tr>\n",
       "  </thead>\n",
       "  <tbody>\n",
       "    <tr>\n",
       "      <th>0</th>\n",
       "      <td>202520</td>\n",
       "      <td>강릉</td>\n",
       "      <td>11</td>\n",
       "      <td>4</td>\n",
       "    </tr>\n",
       "    <tr>\n",
       "      <th>1</th>\n",
       "      <td>25589</td>\n",
       "      <td>고성(강원)</td>\n",
       "      <td>9</td>\n",
       "      <td>0</td>\n",
       "    </tr>\n",
       "    <tr>\n",
       "      <th>2</th>\n",
       "      <td>86747</td>\n",
       "      <td>동해</td>\n",
       "      <td>11</td>\n",
       "      <td>5</td>\n",
       "    </tr>\n",
       "    <tr>\n",
       "      <th>3</th>\n",
       "      <td>63986</td>\n",
       "      <td>삼척</td>\n",
       "      <td>11</td>\n",
       "      <td>8</td>\n",
       "    </tr>\n",
       "    <tr>\n",
       "      <th>4</th>\n",
       "      <td>76733</td>\n",
       "      <td>속초</td>\n",
       "      <td>9</td>\n",
       "      <td>1</td>\n",
       "    </tr>\n",
       "  </tbody>\n",
       "</table>\n",
       "</div>"
      ],
      "text/plain": [
       "        인구수 shortName   x  y\n",
       "seq                         \n",
       "0    202520        강릉  11  4\n",
       "1     25589    고성(강원)   9  0\n",
       "2     86747        동해  11  5\n",
       "3     63986        삼척  11  8\n",
       "4     76733        속초   9  1"
      ]
     },
     "execution_count": 29,
     "metadata": {},
     "output_type": "execute_result"
    }
   ],
   "source": [
    "#iloc\n",
    "data.iloc[0:5,0:4]"
   ]
  },
  {
   "cell_type": "code",
   "execution_count": 18,
   "id": "63ffcd3a-78e5-4bb0-97b0-ded86d2ade07",
   "metadata": {},
   "outputs": [
    {
     "name": "stdout",
     "output_type": "stream",
     "text": [
      "Index(['seq', '인구수', 'shortName', 'x', 'y', '면적', '광역시도', '행정구역'], dtype='object')\n"
     ]
    },
    {
     "data": {
      "text/html": [
       "<div>\n",
       "<style scoped>\n",
       "    .dataframe tbody tr th:only-of-type {\n",
       "        vertical-align: middle;\n",
       "    }\n",
       "\n",
       "    .dataframe tbody tr th {\n",
       "        vertical-align: top;\n",
       "    }\n",
       "\n",
       "    .dataframe thead th {\n",
       "        text-align: right;\n",
       "    }\n",
       "</style>\n",
       "<table border=\"1\" class=\"dataframe\">\n",
       "  <thead>\n",
       "    <tr style=\"text-align: right;\">\n",
       "      <th></th>\n",
       "      <th>seq</th>\n",
       "      <th>인구수</th>\n",
       "      <th>shortName</th>\n",
       "      <th>x</th>\n",
       "      <th>y</th>\n",
       "      <th>면적</th>\n",
       "      <th>광역시도</th>\n",
       "      <th>행정구역</th>\n",
       "    </tr>\n",
       "  </thead>\n",
       "  <tbody>\n",
       "    <tr>\n",
       "      <th>0</th>\n",
       "      <td>0</td>\n",
       "      <td>202520</td>\n",
       "      <td>강릉</td>\n",
       "      <td>11</td>\n",
       "      <td>4</td>\n",
       "      <td>1040.07</td>\n",
       "      <td>강원도</td>\n",
       "      <td>강릉시</td>\n",
       "    </tr>\n",
       "    <tr>\n",
       "      <th>1</th>\n",
       "      <td>1</td>\n",
       "      <td>25589</td>\n",
       "      <td>고성(강원)</td>\n",
       "      <td>9</td>\n",
       "      <td>0</td>\n",
       "      <td>664.19</td>\n",
       "      <td>강원도</td>\n",
       "      <td>고성군</td>\n",
       "    </tr>\n",
       "  </tbody>\n",
       "</table>\n",
       "</div>"
      ],
      "text/plain": [
       "   seq     인구수 shortName   x  y       면적 광역시도 행정구역\n",
       "0    0  202520        강릉  11  4  1040.07  강원도  강릉시\n",
       "1    1   25589    고성(강원)   9  0   664.19  강원도  고성군"
      ]
     },
     "execution_count": 18,
     "metadata": {},
     "output_type": "execute_result"
    }
   ],
   "source": [
    "#컬럼명 변경\n",
    "print(data.columns)\n",
    "data = data.rename(columns={'Unnamed: 0':'seq'})\n",
    "data.head(2)"
   ]
  },
  {
   "cell_type": "code",
   "execution_count": 19,
   "id": "f2d90c67-9f6a-4919-a3e6-bfbefe6ffa48",
   "metadata": {},
   "outputs": [
    {
     "data": {
      "text/html": [
       "<div>\n",
       "<style scoped>\n",
       "    .dataframe tbody tr th:only-of-type {\n",
       "        vertical-align: middle;\n",
       "    }\n",
       "\n",
       "    .dataframe tbody tr th {\n",
       "        vertical-align: top;\n",
       "    }\n",
       "\n",
       "    .dataframe thead th {\n",
       "        text-align: right;\n",
       "    }\n",
       "</style>\n",
       "<table border=\"1\" class=\"dataframe\">\n",
       "  <thead>\n",
       "    <tr style=\"text-align: right;\">\n",
       "      <th></th>\n",
       "      <th>인구수</th>\n",
       "      <th>shortName</th>\n",
       "      <th>x</th>\n",
       "      <th>y</th>\n",
       "      <th>면적</th>\n",
       "      <th>광역시도</th>\n",
       "      <th>행정구역</th>\n",
       "    </tr>\n",
       "    <tr>\n",
       "      <th>seq</th>\n",
       "      <th></th>\n",
       "      <th></th>\n",
       "      <th></th>\n",
       "      <th></th>\n",
       "      <th></th>\n",
       "      <th></th>\n",
       "      <th></th>\n",
       "    </tr>\n",
       "  </thead>\n",
       "  <tbody>\n",
       "    <tr>\n",
       "      <th>0</th>\n",
       "      <td>202520</td>\n",
       "      <td>강릉</td>\n",
       "      <td>11</td>\n",
       "      <td>4</td>\n",
       "      <td>1040.07</td>\n",
       "      <td>강원도</td>\n",
       "      <td>강릉시</td>\n",
       "    </tr>\n",
       "    <tr>\n",
       "      <th>1</th>\n",
       "      <td>25589</td>\n",
       "      <td>고성(강원)</td>\n",
       "      <td>9</td>\n",
       "      <td>0</td>\n",
       "      <td>664.19</td>\n",
       "      <td>강원도</td>\n",
       "      <td>고성군</td>\n",
       "    </tr>\n",
       "  </tbody>\n",
       "</table>\n",
       "</div>"
      ],
      "text/plain": [
       "        인구수 shortName   x  y       면적 광역시도 행정구역\n",
       "seq                                            \n",
       "0    202520        강릉  11  4  1040.07  강원도  강릉시\n",
       "1     25589    고성(강원)   9  0   664.19  강원도  고성군"
      ]
     },
     "execution_count": 19,
     "metadata": {},
     "output_type": "execute_result"
    }
   ],
   "source": [
    "#seq 컬럼을 index로 변환하기\n",
    "data = data.set_index('seq')\n",
    "data.head(2)"
   ]
  },
  {
   "cell_type": "code",
   "execution_count": 27,
   "id": "b07a6960-fd48-46fb-8f8c-74d6af8ca0d8",
   "metadata": {},
   "outputs": [
    {
     "name": "stdout",
     "output_type": "stream",
     "text": [
      "211089.77729257641\n"
     ]
    },
    {
     "data": {
      "text/html": [
       "<div>\n",
       "<style scoped>\n",
       "    .dataframe tbody tr th:only-of-type {\n",
       "        vertical-align: middle;\n",
       "    }\n",
       "\n",
       "    .dataframe tbody tr th {\n",
       "        vertical-align: top;\n",
       "    }\n",
       "\n",
       "    .dataframe thead th {\n",
       "        text-align: right;\n",
       "    }\n",
       "</style>\n",
       "<table border=\"1\" class=\"dataframe\">\n",
       "  <thead>\n",
       "    <tr style=\"text-align: right;\">\n",
       "      <th></th>\n",
       "      <th>인구수</th>\n",
       "      <th>shortName</th>\n",
       "      <th>x</th>\n",
       "      <th>y</th>\n",
       "      <th>면적</th>\n",
       "      <th>광역시도</th>\n",
       "      <th>행정구역</th>\n",
       "    </tr>\n",
       "  </thead>\n",
       "  <tbody>\n",
       "    <tr>\n",
       "      <th>0</th>\n",
       "      <td>208603</td>\n",
       "      <td>서울용산</td>\n",
       "      <td>6</td>\n",
       "      <td>5</td>\n",
       "      <td>21.87</td>\n",
       "      <td>서울특별시</td>\n",
       "      <td>용산구</td>\n",
       "    </tr>\n",
       "    <tr>\n",
       "      <th>1</th>\n",
       "      <td>203232</td>\n",
       "      <td>울산울주</td>\n",
       "      <td>11</td>\n",
       "      <td>15</td>\n",
       "      <td>754.93</td>\n",
       "      <td>울산광역시</td>\n",
       "      <td>울주군</td>\n",
       "    </tr>\n",
       "    <tr>\n",
       "      <th>2</th>\n",
       "      <td>202520</td>\n",
       "      <td>강릉</td>\n",
       "      <td>11</td>\n",
       "      <td>4</td>\n",
       "      <td>1040.07</td>\n",
       "      <td>강원도</td>\n",
       "      <td>강릉시</td>\n",
       "    </tr>\n",
       "  </tbody>\n",
       "</table>\n",
       "</div>"
      ],
      "text/plain": [
       "      인구수 shortName   x   y       면적   광역시도 행정구역\n",
       "0  208603      서울용산   6   5    21.87  서울특별시  용산구\n",
       "1  203232      울산울주  11  15   754.93  울산광역시  울주군\n",
       "2  202520        강릉  11   4  1040.07    강원도  강릉시"
      ]
     },
     "execution_count": 27,
     "metadata": {},
     "output_type": "execute_result"
    }
   ],
   "source": [
    "#인구수가 전국평균보다 작은 행정구역은?\n",
    "pop_mean_value = data['인구수'].mean()\n",
    "print(pop_mean_value)\n",
    "\n",
    "pop_mean_lt = data.loc[data['인구수'] < pop_mean_value].sort_values(by='인구수',ascending=False).reset_index(drop=True)\n",
    "pop_mean_lt.head(3)"
   ]
  },
  {
   "cell_type": "code",
   "execution_count": 33,
   "id": "d603d7f2-0366-4a98-a500-9be21a2ead11",
   "metadata": {},
   "outputs": [
    {
     "name": "stdout",
     "output_type": "stream",
     "text": [
      "RangeIndex(start=0, stop=141, step=1)\n"
     ]
    },
    {
     "data": {
      "text/html": [
       "<div>\n",
       "<style scoped>\n",
       "    .dataframe tbody tr th:only-of-type {\n",
       "        vertical-align: middle;\n",
       "    }\n",
       "\n",
       "    .dataframe tbody tr th {\n",
       "        vertical-align: top;\n",
       "    }\n",
       "\n",
       "    .dataframe thead th {\n",
       "        text-align: right;\n",
       "    }\n",
       "</style>\n",
       "<table border=\"1\" class=\"dataframe\">\n",
       "  <thead>\n",
       "    <tr style=\"text-align: right;\">\n",
       "      <th></th>\n",
       "      <th>인구수</th>\n",
       "      <th>shortName</th>\n",
       "      <th>x</th>\n",
       "      <th>y</th>\n",
       "      <th>면적</th>\n",
       "      <th>광역시도</th>\n",
       "      <th>행정구역</th>\n",
       "    </tr>\n",
       "  </thead>\n",
       "  <tbody>\n",
       "    <tr>\n",
       "      <th>1</th>\n",
       "      <td>208603</td>\n",
       "      <td>서울용산</td>\n",
       "      <td>6</td>\n",
       "      <td>5</td>\n",
       "      <td>21.87</td>\n",
       "      <td>서울특별시</td>\n",
       "      <td>용산구</td>\n",
       "    </tr>\n",
       "    <tr>\n",
       "      <th>2</th>\n",
       "      <td>203232</td>\n",
       "      <td>울산울주</td>\n",
       "      <td>11</td>\n",
       "      <td>15</td>\n",
       "      <td>754.93</td>\n",
       "      <td>울산광역시</td>\n",
       "      <td>울주군</td>\n",
       "    </tr>\n",
       "  </tbody>\n",
       "</table>\n",
       "</div>"
      ],
      "text/plain": [
       "      인구수 shortName   x   y      면적   광역시도 행정구역\n",
       "1  208603      서울용산   6   5   21.87  서울특별시  용산구\n",
       "2  203232      울산울주  11  15  754.93  울산광역시  울주군"
      ]
     },
     "execution_count": 33,
     "metadata": {},
     "output_type": "execute_result"
    }
   ],
   "source": [
    "#index를 1부터 시작하도록 변경하기\n",
    "import numpy as np\n",
    "print(pop_mean_lt.index)\n",
    "pop_mean_lt.index = np.arange(1, len(pop_mean_lt)+1)\n",
    "pop_mean_lt.head(2)"
   ]
  },
  {
   "cell_type": "code",
   "execution_count": 35,
   "id": "1ef2d52e-2d58-4007-a8bd-c505c00efac9",
   "metadata": {},
   "outputs": [],
   "source": [
    "#excel file로 저장하기\n",
    "pop_mean_lt.to_excel('data/평균인구수미만지역.xlsx', sheet_name='평균인구수미만지역')"
   ]
  },
  {
   "cell_type": "markdown",
   "id": "4569a08f-82fd-4d7b-8ba2-f1f89a79f541",
   "metadata": {},
   "source": [
    "#### 상관계수\n",
    "* 인구수와 면적이 관련성이 있는지 확인하기\n",
    "* 상관계수는 -1 ~ 1 사이의 값이며, 0에 가까울수록 관련성이 낮고, 1에 가까울수록 관련성이 높다. \n",
    "* corr() 함수 사용"
   ]
  },
  {
   "cell_type": "code",
   "execution_count": 37,
   "id": "63448839-27fa-4afe-9f5d-343daabe7a2d",
   "metadata": {},
   "outputs": [
    {
     "data": {
      "text/plain": [
       "-0.3460351605045768"
      ]
     },
     "execution_count": 37,
     "metadata": {},
     "output_type": "execute_result"
    }
   ],
   "source": [
    "#전체 행정구역의 인구수와 면적의 상관계수\n",
    "data['인구수'].corr(data['면적'])"
   ]
  },
  {
   "cell_type": "code",
   "execution_count": 40,
   "id": "a22f5562-c6ae-4ace-abaf-392fc34df80d",
   "metadata": {},
   "outputs": [
    {
     "data": {
      "text/plain": [
       "0.6644268188909777"
      ]
     },
     "execution_count": 40,
     "metadata": {},
     "output_type": "execute_result"
    }
   ],
   "source": [
    "#서울특별시 행정구역의 인구수와 면적의 상관계수\n",
    "seoul_df = data.loc[data['광역시도'] == '서울특별시']\n",
    "seoul_df['인구수'].corr(seoul_df['면적'])"
   ]
  },
  {
   "cell_type": "code",
   "execution_count": 95,
   "id": "666cc478-0fa3-417b-aca8-79ac3d33a13a",
   "metadata": {},
   "outputs": [
    {
     "data": {
      "text/plain": [
       "-0.21572485071590813"
      ]
     },
     "execution_count": 95,
     "metadata": {},
     "output_type": "execute_result"
    }
   ],
   "source": [
    "#경기도 행정구역의 인구수와 면적의 상관계수\n",
    "gy_df = data.loc[data['광역시도'] == '경기도']\n",
    "gy_df['인구수'].corr(gy_df['면적'])"
   ]
  },
  {
   "cell_type": "markdown",
   "id": "4be0ca8a-a52f-4c75-bf48-57ec4aa533be",
   "metadata": {},
   "source": [
    "#### GroupBy \n",
    "* ~별에 해당하는 컬럼명이나 컬럼값을 함수의 인자로 전달한다.\n",
    "* Series 객체의 groupby() 함수는 컬럼값을 인자로 전달한다.\n",
    "* DataFrame 객체의 groupby() 함수는 컬럼명을 인자로 전달한다."
   ]
  },
  {
   "cell_type": "code",
   "execution_count": 45,
   "id": "f116a865-2632-4374-823a-57ca4bf66d0b",
   "metadata": {},
   "outputs": [
    {
     "data": {
      "text/plain": [
       "광역시도\n",
       "경기도        11744210\n",
       "서울특별시       9394807\n",
       "부산광역시       3323591\n",
       "경상남도        3144487\n",
       "인천광역시       2766575\n",
       "경상북도        2508964\n",
       "대구광역시       2378450\n",
       "충청남도        1946129\n",
       "전라북도        1739048\n",
       "전라남도        1700563\n",
       "충청북도        1484720\n",
       "대전광역시       1467677\n",
       "광주광역시       1438209\n",
       "강원도         1429438\n",
       "울산광역시       1105585\n",
       "제주특별자치도      575873\n",
       "세종특별자치시      191233\n",
       "Name: 인구수, dtype: int64"
      ]
     },
     "execution_count": 45,
     "metadata": {},
     "output_type": "execute_result"
    }
   ],
   "source": [
    "#Series 객체 : 광역시도별 인구수의 합계\n",
    "#SeriesGroupBy object\n",
    "data['인구수'].groupby(data['광역시도']).sum().sort_values(ascending=False)"
   ]
  },
  {
   "cell_type": "code",
   "execution_count": 49,
   "id": "33ec05b9-d5f2-405d-8249-d8042c12957e",
   "metadata": {},
   "outputs": [
    {
     "data": {
      "text/html": [
       "<div>\n",
       "<style scoped>\n",
       "    .dataframe tbody tr th:only-of-type {\n",
       "        vertical-align: middle;\n",
       "    }\n",
       "\n",
       "    .dataframe tbody tr th {\n",
       "        vertical-align: top;\n",
       "    }\n",
       "\n",
       "    .dataframe thead th {\n",
       "        text-align: right;\n",
       "    }\n",
       "</style>\n",
       "<table border=\"1\" class=\"dataframe\">\n",
       "  <thead>\n",
       "    <tr style=\"text-align: right;\">\n",
       "      <th></th>\n",
       "      <th>인구수</th>\n",
       "      <th>x</th>\n",
       "      <th>y</th>\n",
       "      <th>면적</th>\n",
       "    </tr>\n",
       "    <tr>\n",
       "      <th>광역시도</th>\n",
       "      <th></th>\n",
       "      <th></th>\n",
       "      <th></th>\n",
       "      <th></th>\n",
       "    </tr>\n",
       "  </thead>\n",
       "  <tbody>\n",
       "    <tr>\n",
       "      <th>강원도</th>\n",
       "      <td>1429438</td>\n",
       "      <td>173</td>\n",
       "      <td>68</td>\n",
       "      <td>16874.810</td>\n",
       "    </tr>\n",
       "    <tr>\n",
       "      <th>경기도</th>\n",
       "      <td>11744210</td>\n",
       "      <td>182</td>\n",
       "      <td>162</td>\n",
       "      <td>10179.743</td>\n",
       "    </tr>\n",
       "    <tr>\n",
       "      <th>경상남도</th>\n",
       "      <td>3144487</td>\n",
       "      <td>123</td>\n",
       "      <td>313</td>\n",
       "      <td>10437.460</td>\n",
       "    </tr>\n",
       "    <tr>\n",
       "      <th>경상북도</th>\n",
       "      <td>2508964</td>\n",
       "      <td>229</td>\n",
       "      <td>240</td>\n",
       "      <td>19021.850</td>\n",
       "    </tr>\n",
       "    <tr>\n",
       "      <th>광주광역시</th>\n",
       "      <td>1438209</td>\n",
       "      <td>12</td>\n",
       "      <td>99</td>\n",
       "      <td>501.280</td>\n",
       "    </tr>\n",
       "  </tbody>\n",
       "</table>\n",
       "</div>"
      ],
      "text/plain": [
       "            인구수    x    y         면적\n",
       "광역시도                                \n",
       "강원도     1429438  173   68  16874.810\n",
       "경기도    11744210  182  162  10179.743\n",
       "경상남도    3144487  123  313  10437.460\n",
       "경상북도    2508964  229  240  19021.850\n",
       "광주광역시   1438209   12   99    501.280"
      ]
     },
     "execution_count": 49,
     "metadata": {},
     "output_type": "execute_result"
    }
   ],
   "source": [
    "#DataFrame 객체 : 광역시도별 인구수의 합계\n",
    "#DataFrameGroupBy object\n",
    "data.groupby('광역시도').sum().head()"
   ]
  },
  {
   "cell_type": "code",
   "execution_count": 52,
   "id": "378fa9b4-fcf0-4e23-925a-c03233734262",
   "metadata": {},
   "outputs": [
    {
     "data": {
      "text/plain": [
       "광역시도\n",
       "경기도        11744210\n",
       "서울특별시       9394807\n",
       "부산광역시       3323591\n",
       "경상남도        3144487\n",
       "인천광역시       2766575\n",
       "경상북도        2508964\n",
       "대구광역시       2378450\n",
       "충청남도        1946129\n",
       "전라북도        1739048\n",
       "전라남도        1700563\n",
       "충청북도        1484720\n",
       "대전광역시       1467677\n",
       "광주광역시       1438209\n",
       "강원도         1429438\n",
       "울산광역시       1105585\n",
       "제주특별자치도      575873\n",
       "세종특별자치시      191233\n",
       "Name: 인구수, dtype: int64"
      ]
     },
     "execution_count": 52,
     "metadata": {},
     "output_type": "execute_result"
    }
   ],
   "source": [
    "data.groupby('광역시도')['인구수'].sum().sort_values(ascending=False)"
   ]
  },
  {
   "cell_type": "code",
   "execution_count": 55,
   "id": "6c595629-fb6f-4568-87e5-45cb7f8a2bed",
   "metadata": {},
   "outputs": [],
   "source": [
    "#광역시도별,행정구역별 인구수의 합계\n",
    "groupby_df = data.groupby(['광역시도','행정구역'])['인구수'].sum()\n",
    "groupby_df.to_excel('data/광역시도별행정구역별인구수합계.xlsx',sheet_name='인구수')"
   ]
  },
  {
   "cell_type": "code",
   "execution_count": 60,
   "id": "3a772811-c7a0-435d-9671-858dd4ac6327",
   "metadata": {},
   "outputs": [],
   "source": [
    "import numpy as np\n",
    "\n",
    "def std(x):\n",
    "    return np.std(x)"
   ]
  },
  {
   "cell_type": "code",
   "execution_count": 63,
   "id": "e32f7a6c-c21b-4454-8a64-54bc14688a7f",
   "metadata": {},
   "outputs": [
    {
     "data": {
      "text/plain": [
       "41.899350299921785"
      ]
     },
     "execution_count": 63,
     "metadata": {},
     "output_type": "execute_result"
    }
   ],
   "source": [
    "std([100,30,0])"
   ]
  },
  {
   "cell_type": "code",
   "execution_count": 66,
   "id": "b731661b-a94c-4e73-ad2c-d33258b0b694",
   "metadata": {},
   "outputs": [],
   "source": [
    "#광역시도별 인구수의 max, mean, std 집계함수의 한번에 조회하기\n",
    "group_agg_df = data.groupby('광역시도')['인구수'].agg(['max','mean',std]).sort_values(by='std', ascending=False)"
   ]
  },
  {
   "cell_type": "code",
   "execution_count": 73,
   "id": "ed21ab9f-9efb-44da-bcda-92d986445cdc",
   "metadata": {},
   "outputs": [
    {
     "data": {
      "text/html": [
       "<div>\n",
       "<style scoped>\n",
       "    .dataframe tbody tr th:only-of-type {\n",
       "        vertical-align: middle;\n",
       "    }\n",
       "\n",
       "    .dataframe tbody tr th {\n",
       "        vertical-align: top;\n",
       "    }\n",
       "\n",
       "    .dataframe thead th {\n",
       "        text-align: right;\n",
       "    }\n",
       "</style>\n",
       "<table border=\"1\" class=\"dataframe\">\n",
       "  <thead>\n",
       "    <tr style=\"text-align: right;\">\n",
       "      <th></th>\n",
       "      <th>광역시도</th>\n",
       "      <th>max</th>\n",
       "      <th>mean</th>\n",
       "      <th>std</th>\n",
       "    </tr>\n",
       "  </thead>\n",
       "  <tbody>\n",
       "    <tr>\n",
       "      <th>0</th>\n",
       "      <td>경기도</td>\n",
       "      <td>1125461</td>\n",
       "      <td>378845.483871</td>\n",
       "      <td>299596.058671</td>\n",
       "    </tr>\n",
       "    <tr>\n",
       "      <th>1</th>\n",
       "      <td>경상남도</td>\n",
       "      <td>1010040</td>\n",
       "      <td>174693.722222</td>\n",
       "      <td>238871.227298</td>\n",
       "    </tr>\n",
       "    <tr>\n",
       "      <th>2</th>\n",
       "      <td>충청북도</td>\n",
       "      <td>790216</td>\n",
       "      <td>134974.545455</td>\n",
       "      <td>213061.090252</td>\n",
       "    </tr>\n",
       "    <tr>\n",
       "      <th>3</th>\n",
       "      <td>인천광역시</td>\n",
       "      <td>527153</td>\n",
       "      <td>276657.500000</td>\n",
       "      <td>189123.427397</td>\n",
       "    </tr>\n",
       "    <tr>\n",
       "      <th>4</th>\n",
       "      <td>대구광역시</td>\n",
       "      <td>584517</td>\n",
       "      <td>297306.250000</td>\n",
       "      <td>163113.245613</td>\n",
       "    </tr>\n",
       "    <tr>\n",
       "      <th>5</th>\n",
       "      <td>전라북도</td>\n",
       "      <td>630708</td>\n",
       "      <td>124217.714286</td>\n",
       "      <td>162204.085760</td>\n",
       "    </tr>\n",
       "    <tr>\n",
       "      <th>6</th>\n",
       "      <td>제주특별자치도</td>\n",
       "      <td>430504</td>\n",
       "      <td>287936.500000</td>\n",
       "      <td>142567.500000</td>\n",
       "    </tr>\n",
       "    <tr>\n",
       "      <th>7</th>\n",
       "      <td>충청남도</td>\n",
       "      <td>584912</td>\n",
       "      <td>129741.933333</td>\n",
       "      <td>136339.807302</td>\n",
       "    </tr>\n",
       "    <tr>\n",
       "      <th>8</th>\n",
       "      <td>서울특별시</td>\n",
       "      <td>615487</td>\n",
       "      <td>375792.280000</td>\n",
       "      <td>122701.062956</td>\n",
       "    </tr>\n",
       "    <tr>\n",
       "      <th>9</th>\n",
       "      <td>광주광역시</td>\n",
       "      <td>439683</td>\n",
       "      <td>287641.800000</td>\n",
       "      <td>122605.112711</td>\n",
       "    </tr>\n",
       "    <tr>\n",
       "      <th>10</th>\n",
       "      <td>경상북도</td>\n",
       "      <td>488395</td>\n",
       "      <td>109085.391304</td>\n",
       "      <td>122208.147443</td>\n",
       "    </tr>\n",
       "    <tr>\n",
       "      <th>11</th>\n",
       "      <td>부산광역시</td>\n",
       "      <td>397134</td>\n",
       "      <td>207724.437500</td>\n",
       "      <td>102872.287220</td>\n",
       "    </tr>\n",
       "    <tr>\n",
       "      <th>12</th>\n",
       "      <td>대전광역시</td>\n",
       "      <td>475094</td>\n",
       "      <td>293535.400000</td>\n",
       "      <td>100044.876102</td>\n",
       "    </tr>\n",
       "    <tr>\n",
       "      <th>13</th>\n",
       "      <td>강원도</td>\n",
       "      <td>313851</td>\n",
       "      <td>79413.222222</td>\n",
       "      <td>84856.271716</td>\n",
       "    </tr>\n",
       "    <tr>\n",
       "      <th>14</th>\n",
       "      <td>전라남도</td>\n",
       "      <td>263166</td>\n",
       "      <td>77298.318182</td>\n",
       "      <td>72702.375033</td>\n",
       "    </tr>\n",
       "    <tr>\n",
       "      <th>15</th>\n",
       "      <td>울산광역시</td>\n",
       "      <td>327270</td>\n",
       "      <td>221117.000000</td>\n",
       "      <td>57389.388183</td>\n",
       "    </tr>\n",
       "    <tr>\n",
       "      <th>16</th>\n",
       "      <td>세종특별자치시</td>\n",
       "      <td>191233</td>\n",
       "      <td>191233.000000</td>\n",
       "      <td>0.000000</td>\n",
       "    </tr>\n",
       "  </tbody>\n",
       "</table>\n",
       "</div>"
      ],
      "text/plain": [
       "       광역시도      max           mean            std\n",
       "0       경기도  1125461  378845.483871  299596.058671\n",
       "1      경상남도  1010040  174693.722222  238871.227298\n",
       "2      충청북도   790216  134974.545455  213061.090252\n",
       "3     인천광역시   527153  276657.500000  189123.427397\n",
       "4     대구광역시   584517  297306.250000  163113.245613\n",
       "5      전라북도   630708  124217.714286  162204.085760\n",
       "6   제주특별자치도   430504  287936.500000  142567.500000\n",
       "7      충청남도   584912  129741.933333  136339.807302\n",
       "8     서울특별시   615487  375792.280000  122701.062956\n",
       "9     광주광역시   439683  287641.800000  122605.112711\n",
       "10     경상북도   488395  109085.391304  122208.147443\n",
       "11    부산광역시   397134  207724.437500  102872.287220\n",
       "12    대전광역시   475094  293535.400000  100044.876102\n",
       "13      강원도   313851   79413.222222   84856.271716\n",
       "14     전라남도   263166   77298.318182   72702.375033\n",
       "15    울산광역시   327270  221117.000000   57389.388183\n",
       "16  세종특별자치시   191233  191233.000000       0.000000"
      ]
     },
     "execution_count": 73,
     "metadata": {},
     "output_type": "execute_result"
    }
   ],
   "source": [
    "#inplace=False이면 원본객체를 변경하지 않고, 출력만 해준다. \n",
    "group_agg_df.reset_index(level='광역시도', inplace=False)"
   ]
  },
  {
   "cell_type": "code",
   "execution_count": 75,
   "id": "5d36c799-55fa-4276-858c-148fd44a67b3",
   "metadata": {},
   "outputs": [],
   "source": [
    "#inplace=True이면 원본객체를 변경하고, 출력은 하지 않는다\n",
    "group_agg_df.reset_index(level='광역시도', inplace=True)"
   ]
  },
  {
   "cell_type": "code",
   "execution_count": 77,
   "id": "140b8878-463e-4ddc-aae0-ac9e529b4bca",
   "metadata": {},
   "outputs": [
    {
     "data": {
      "text/html": [
       "<div>\n",
       "<style scoped>\n",
       "    .dataframe tbody tr th:only-of-type {\n",
       "        vertical-align: middle;\n",
       "    }\n",
       "\n",
       "    .dataframe tbody tr th {\n",
       "        vertical-align: top;\n",
       "    }\n",
       "\n",
       "    .dataframe thead th {\n",
       "        text-align: right;\n",
       "    }\n",
       "</style>\n",
       "<table border=\"1\" class=\"dataframe\">\n",
       "  <thead>\n",
       "    <tr style=\"text-align: right;\">\n",
       "      <th></th>\n",
       "      <th>광역시도</th>\n",
       "      <th>max</th>\n",
       "      <th>mean</th>\n",
       "      <th>std</th>\n",
       "    </tr>\n",
       "  </thead>\n",
       "  <tbody>\n",
       "    <tr>\n",
       "      <th>0</th>\n",
       "      <td>경기도</td>\n",
       "      <td>1125461</td>\n",
       "      <td>378845.483871</td>\n",
       "      <td>299596.058671</td>\n",
       "    </tr>\n",
       "    <tr>\n",
       "      <th>1</th>\n",
       "      <td>경상남도</td>\n",
       "      <td>1010040</td>\n",
       "      <td>174693.722222</td>\n",
       "      <td>238871.227298</td>\n",
       "    </tr>\n",
       "    <tr>\n",
       "      <th>2</th>\n",
       "      <td>충청북도</td>\n",
       "      <td>790216</td>\n",
       "      <td>134974.545455</td>\n",
       "      <td>213061.090252</td>\n",
       "    </tr>\n",
       "    <tr>\n",
       "      <th>3</th>\n",
       "      <td>인천광역시</td>\n",
       "      <td>527153</td>\n",
       "      <td>276657.500000</td>\n",
       "      <td>189123.427397</td>\n",
       "    </tr>\n",
       "    <tr>\n",
       "      <th>4</th>\n",
       "      <td>대구광역시</td>\n",
       "      <td>584517</td>\n",
       "      <td>297306.250000</td>\n",
       "      <td>163113.245613</td>\n",
       "    </tr>\n",
       "    <tr>\n",
       "      <th>5</th>\n",
       "      <td>전라북도</td>\n",
       "      <td>630708</td>\n",
       "      <td>124217.714286</td>\n",
       "      <td>162204.085760</td>\n",
       "    </tr>\n",
       "    <tr>\n",
       "      <th>6</th>\n",
       "      <td>제주특별자치도</td>\n",
       "      <td>430504</td>\n",
       "      <td>287936.500000</td>\n",
       "      <td>142567.500000</td>\n",
       "    </tr>\n",
       "    <tr>\n",
       "      <th>7</th>\n",
       "      <td>충청남도</td>\n",
       "      <td>584912</td>\n",
       "      <td>129741.933333</td>\n",
       "      <td>136339.807302</td>\n",
       "    </tr>\n",
       "    <tr>\n",
       "      <th>8</th>\n",
       "      <td>서울특별시</td>\n",
       "      <td>615487</td>\n",
       "      <td>375792.280000</td>\n",
       "      <td>122701.062956</td>\n",
       "    </tr>\n",
       "    <tr>\n",
       "      <th>9</th>\n",
       "      <td>광주광역시</td>\n",
       "      <td>439683</td>\n",
       "      <td>287641.800000</td>\n",
       "      <td>122605.112711</td>\n",
       "    </tr>\n",
       "    <tr>\n",
       "      <th>10</th>\n",
       "      <td>경상북도</td>\n",
       "      <td>488395</td>\n",
       "      <td>109085.391304</td>\n",
       "      <td>122208.147443</td>\n",
       "    </tr>\n",
       "    <tr>\n",
       "      <th>11</th>\n",
       "      <td>부산광역시</td>\n",
       "      <td>397134</td>\n",
       "      <td>207724.437500</td>\n",
       "      <td>102872.287220</td>\n",
       "    </tr>\n",
       "    <tr>\n",
       "      <th>12</th>\n",
       "      <td>대전광역시</td>\n",
       "      <td>475094</td>\n",
       "      <td>293535.400000</td>\n",
       "      <td>100044.876102</td>\n",
       "    </tr>\n",
       "    <tr>\n",
       "      <th>13</th>\n",
       "      <td>강원도</td>\n",
       "      <td>313851</td>\n",
       "      <td>79413.222222</td>\n",
       "      <td>84856.271716</td>\n",
       "    </tr>\n",
       "    <tr>\n",
       "      <th>14</th>\n",
       "      <td>전라남도</td>\n",
       "      <td>263166</td>\n",
       "      <td>77298.318182</td>\n",
       "      <td>72702.375033</td>\n",
       "    </tr>\n",
       "    <tr>\n",
       "      <th>15</th>\n",
       "      <td>울산광역시</td>\n",
       "      <td>327270</td>\n",
       "      <td>221117.000000</td>\n",
       "      <td>57389.388183</td>\n",
       "    </tr>\n",
       "    <tr>\n",
       "      <th>16</th>\n",
       "      <td>세종특별자치시</td>\n",
       "      <td>191233</td>\n",
       "      <td>191233.000000</td>\n",
       "      <td>0.000000</td>\n",
       "    </tr>\n",
       "  </tbody>\n",
       "</table>\n",
       "</div>"
      ],
      "text/plain": [
       "       광역시도      max           mean            std\n",
       "0       경기도  1125461  378845.483871  299596.058671\n",
       "1      경상남도  1010040  174693.722222  238871.227298\n",
       "2      충청북도   790216  134974.545455  213061.090252\n",
       "3     인천광역시   527153  276657.500000  189123.427397\n",
       "4     대구광역시   584517  297306.250000  163113.245613\n",
       "5      전라북도   630708  124217.714286  162204.085760\n",
       "6   제주특별자치도   430504  287936.500000  142567.500000\n",
       "7      충청남도   584912  129741.933333  136339.807302\n",
       "8     서울특별시   615487  375792.280000  122701.062956\n",
       "9     광주광역시   439683  287641.800000  122605.112711\n",
       "10     경상북도   488395  109085.391304  122208.147443\n",
       "11    부산광역시   397134  207724.437500  102872.287220\n",
       "12    대전광역시   475094  293535.400000  100044.876102\n",
       "13      강원도   313851   79413.222222   84856.271716\n",
       "14     전라남도   263166   77298.318182   72702.375033\n",
       "15    울산광역시   327270  221117.000000   57389.388183\n",
       "16  세종특별자치시   191233  191233.000000       0.000000"
      ]
     },
     "execution_count": 77,
     "metadata": {},
     "output_type": "execute_result"
    }
   ],
   "source": [
    "group_agg_df"
   ]
  },
  {
   "cell_type": "code",
   "execution_count": 79,
   "id": "3b7dddb9-dcac-4c5e-a593-d626d5e7a665",
   "metadata": {},
   "outputs": [
    {
     "data": {
      "text/html": [
       "<div>\n",
       "<style scoped>\n",
       "    .dataframe tbody tr th:only-of-type {\n",
       "        vertical-align: middle;\n",
       "    }\n",
       "\n",
       "    .dataframe tbody tr th {\n",
       "        vertical-align: top;\n",
       "    }\n",
       "\n",
       "    .dataframe thead th {\n",
       "        text-align: right;\n",
       "    }\n",
       "</style>\n",
       "<table border=\"1\" class=\"dataframe\">\n",
       "  <thead>\n",
       "    <tr style=\"text-align: right;\">\n",
       "      <th></th>\n",
       "      <th>0</th>\n",
       "      <th>1</th>\n",
       "      <th>2</th>\n",
       "      <th>3</th>\n",
       "      <th>4</th>\n",
       "      <th>5</th>\n",
       "      <th>6</th>\n",
       "      <th>7</th>\n",
       "      <th>8</th>\n",
       "      <th>9</th>\n",
       "      <th>10</th>\n",
       "      <th>11</th>\n",
       "      <th>12</th>\n",
       "      <th>13</th>\n",
       "      <th>14</th>\n",
       "      <th>15</th>\n",
       "      <th>16</th>\n",
       "    </tr>\n",
       "  </thead>\n",
       "  <tbody>\n",
       "    <tr>\n",
       "      <th>광역시도</th>\n",
       "      <td>경기도</td>\n",
       "      <td>경상남도</td>\n",
       "      <td>충청북도</td>\n",
       "      <td>인천광역시</td>\n",
       "      <td>대구광역시</td>\n",
       "      <td>전라북도</td>\n",
       "      <td>제주특별자치도</td>\n",
       "      <td>충청남도</td>\n",
       "      <td>서울특별시</td>\n",
       "      <td>광주광역시</td>\n",
       "      <td>경상북도</td>\n",
       "      <td>부산광역시</td>\n",
       "      <td>대전광역시</td>\n",
       "      <td>강원도</td>\n",
       "      <td>전라남도</td>\n",
       "      <td>울산광역시</td>\n",
       "      <td>세종특별자치시</td>\n",
       "    </tr>\n",
       "    <tr>\n",
       "      <th>max</th>\n",
       "      <td>1125461</td>\n",
       "      <td>1010040</td>\n",
       "      <td>790216</td>\n",
       "      <td>527153</td>\n",
       "      <td>584517</td>\n",
       "      <td>630708</td>\n",
       "      <td>430504</td>\n",
       "      <td>584912</td>\n",
       "      <td>615487</td>\n",
       "      <td>439683</td>\n",
       "      <td>488395</td>\n",
       "      <td>397134</td>\n",
       "      <td>475094</td>\n",
       "      <td>313851</td>\n",
       "      <td>263166</td>\n",
       "      <td>327270</td>\n",
       "      <td>191233</td>\n",
       "    </tr>\n",
       "    <tr>\n",
       "      <th>mean</th>\n",
       "      <td>378845.483871</td>\n",
       "      <td>174693.722222</td>\n",
       "      <td>134974.545455</td>\n",
       "      <td>276657.5</td>\n",
       "      <td>297306.25</td>\n",
       "      <td>124217.714286</td>\n",
       "      <td>287936.5</td>\n",
       "      <td>129741.933333</td>\n",
       "      <td>375792.28</td>\n",
       "      <td>287641.8</td>\n",
       "      <td>109085.391304</td>\n",
       "      <td>207724.4375</td>\n",
       "      <td>293535.4</td>\n",
       "      <td>79413.222222</td>\n",
       "      <td>77298.318182</td>\n",
       "      <td>221117.0</td>\n",
       "      <td>191233.0</td>\n",
       "    </tr>\n",
       "    <tr>\n",
       "      <th>std</th>\n",
       "      <td>299596.058671</td>\n",
       "      <td>238871.227298</td>\n",
       "      <td>213061.090252</td>\n",
       "      <td>189123.427397</td>\n",
       "      <td>163113.245613</td>\n",
       "      <td>162204.08576</td>\n",
       "      <td>142567.5</td>\n",
       "      <td>136339.807302</td>\n",
       "      <td>122701.062956</td>\n",
       "      <td>122605.112711</td>\n",
       "      <td>122208.147443</td>\n",
       "      <td>102872.28722</td>\n",
       "      <td>100044.876102</td>\n",
       "      <td>84856.271716</td>\n",
       "      <td>72702.375033</td>\n",
       "      <td>57389.388183</td>\n",
       "      <td>0.0</td>\n",
       "    </tr>\n",
       "  </tbody>\n",
       "</table>\n",
       "</div>"
      ],
      "text/plain": [
       "                 0              1              2              3   \\\n",
       "광역시도            경기도           경상남도           충청북도          인천광역시   \n",
       "max         1125461        1010040         790216         527153   \n",
       "mean  378845.483871  174693.722222  134974.545455       276657.5   \n",
       "std   299596.058671  238871.227298  213061.090252  189123.427397   \n",
       "\n",
       "                 4              5         6              7              8   \\\n",
       "광역시도          대구광역시           전라북도   제주특별자치도           충청남도          서울특별시   \n",
       "max          584517         630708    430504         584912         615487   \n",
       "mean      297306.25  124217.714286  287936.5  129741.933333      375792.28   \n",
       "std   163113.245613   162204.08576  142567.5  136339.807302  122701.062956   \n",
       "\n",
       "                 9              10            11             12            13  \\\n",
       "광역시도          광주광역시           경상북도         부산광역시          대전광역시           강원도   \n",
       "max          439683         488395        397134         475094        313851   \n",
       "mean       287641.8  109085.391304   207724.4375       293535.4  79413.222222   \n",
       "std   122605.112711  122208.147443  102872.28722  100044.876102  84856.271716   \n",
       "\n",
       "                14            15        16  \n",
       "광역시도          전라남도         울산광역시   세종특별자치시  \n",
       "max         263166        327270    191233  \n",
       "mean  77298.318182      221117.0  191233.0  \n",
       "std   72702.375033  57389.388183       0.0  "
      ]
     },
     "execution_count": 79,
     "metadata": {},
     "output_type": "execute_result"
    }
   ],
   "source": [
    "#행과 열을 바꾸고 싶다면 T속성이나 transpose() 함수를 사용하면 된다. \n",
    "group_agg_df.T"
   ]
  },
  {
   "cell_type": "code",
   "execution_count": 81,
   "id": "4f410659-5b7e-44bb-b6a6-f01c52a2a256",
   "metadata": {},
   "outputs": [
    {
     "data": {
      "text/html": [
       "<div>\n",
       "<style scoped>\n",
       "    .dataframe tbody tr th:only-of-type {\n",
       "        vertical-align: middle;\n",
       "    }\n",
       "\n",
       "    .dataframe tbody tr th {\n",
       "        vertical-align: top;\n",
       "    }\n",
       "\n",
       "    .dataframe thead th {\n",
       "        text-align: right;\n",
       "    }\n",
       "</style>\n",
       "<table border=\"1\" class=\"dataframe\">\n",
       "  <thead>\n",
       "    <tr style=\"text-align: right;\">\n",
       "      <th></th>\n",
       "      <th>0</th>\n",
       "      <th>1</th>\n",
       "      <th>2</th>\n",
       "      <th>3</th>\n",
       "      <th>4</th>\n",
       "      <th>5</th>\n",
       "      <th>6</th>\n",
       "      <th>7</th>\n",
       "      <th>8</th>\n",
       "      <th>9</th>\n",
       "      <th>10</th>\n",
       "      <th>11</th>\n",
       "      <th>12</th>\n",
       "      <th>13</th>\n",
       "      <th>14</th>\n",
       "      <th>15</th>\n",
       "      <th>16</th>\n",
       "    </tr>\n",
       "  </thead>\n",
       "  <tbody>\n",
       "    <tr>\n",
       "      <th>광역시도</th>\n",
       "      <td>경기도</td>\n",
       "      <td>경상남도</td>\n",
       "      <td>충청북도</td>\n",
       "      <td>인천광역시</td>\n",
       "      <td>대구광역시</td>\n",
       "      <td>전라북도</td>\n",
       "      <td>제주특별자치도</td>\n",
       "      <td>충청남도</td>\n",
       "      <td>서울특별시</td>\n",
       "      <td>광주광역시</td>\n",
       "      <td>경상북도</td>\n",
       "      <td>부산광역시</td>\n",
       "      <td>대전광역시</td>\n",
       "      <td>강원도</td>\n",
       "      <td>전라남도</td>\n",
       "      <td>울산광역시</td>\n",
       "      <td>세종특별자치시</td>\n",
       "    </tr>\n",
       "    <tr>\n",
       "      <th>max</th>\n",
       "      <td>1125461</td>\n",
       "      <td>1010040</td>\n",
       "      <td>790216</td>\n",
       "      <td>527153</td>\n",
       "      <td>584517</td>\n",
       "      <td>630708</td>\n",
       "      <td>430504</td>\n",
       "      <td>584912</td>\n",
       "      <td>615487</td>\n",
       "      <td>439683</td>\n",
       "      <td>488395</td>\n",
       "      <td>397134</td>\n",
       "      <td>475094</td>\n",
       "      <td>313851</td>\n",
       "      <td>263166</td>\n",
       "      <td>327270</td>\n",
       "      <td>191233</td>\n",
       "    </tr>\n",
       "    <tr>\n",
       "      <th>mean</th>\n",
       "      <td>378845.483871</td>\n",
       "      <td>174693.722222</td>\n",
       "      <td>134974.545455</td>\n",
       "      <td>276657.5</td>\n",
       "      <td>297306.25</td>\n",
       "      <td>124217.714286</td>\n",
       "      <td>287936.5</td>\n",
       "      <td>129741.933333</td>\n",
       "      <td>375792.28</td>\n",
       "      <td>287641.8</td>\n",
       "      <td>109085.391304</td>\n",
       "      <td>207724.4375</td>\n",
       "      <td>293535.4</td>\n",
       "      <td>79413.222222</td>\n",
       "      <td>77298.318182</td>\n",
       "      <td>221117.0</td>\n",
       "      <td>191233.0</td>\n",
       "    </tr>\n",
       "    <tr>\n",
       "      <th>std</th>\n",
       "      <td>299596.058671</td>\n",
       "      <td>238871.227298</td>\n",
       "      <td>213061.090252</td>\n",
       "      <td>189123.427397</td>\n",
       "      <td>163113.245613</td>\n",
       "      <td>162204.08576</td>\n",
       "      <td>142567.5</td>\n",
       "      <td>136339.807302</td>\n",
       "      <td>122701.062956</td>\n",
       "      <td>122605.112711</td>\n",
       "      <td>122208.147443</td>\n",
       "      <td>102872.28722</td>\n",
       "      <td>100044.876102</td>\n",
       "      <td>84856.271716</td>\n",
       "      <td>72702.375033</td>\n",
       "      <td>57389.388183</td>\n",
       "      <td>0.0</td>\n",
       "    </tr>\n",
       "  </tbody>\n",
       "</table>\n",
       "</div>"
      ],
      "text/plain": [
       "                 0              1              2              3   \\\n",
       "광역시도            경기도           경상남도           충청북도          인천광역시   \n",
       "max         1125461        1010040         790216         527153   \n",
       "mean  378845.483871  174693.722222  134974.545455       276657.5   \n",
       "std   299596.058671  238871.227298  213061.090252  189123.427397   \n",
       "\n",
       "                 4              5         6              7              8   \\\n",
       "광역시도          대구광역시           전라북도   제주특별자치도           충청남도          서울특별시   \n",
       "max          584517         630708    430504         584912         615487   \n",
       "mean      297306.25  124217.714286  287936.5  129741.933333      375792.28   \n",
       "std   163113.245613   162204.08576  142567.5  136339.807302  122701.062956   \n",
       "\n",
       "                 9              10            11             12            13  \\\n",
       "광역시도          광주광역시           경상북도         부산광역시          대전광역시           강원도   \n",
       "max          439683         488395        397134         475094        313851   \n",
       "mean       287641.8  109085.391304   207724.4375       293535.4  79413.222222   \n",
       "std   122605.112711  122208.147443  102872.28722  100044.876102  84856.271716   \n",
       "\n",
       "                14            15        16  \n",
       "광역시도          전라남도         울산광역시   세종특별자치시  \n",
       "max         263166        327270    191233  \n",
       "mean  77298.318182      221117.0  191233.0  \n",
       "std   72702.375033  57389.388183       0.0  "
      ]
     },
     "execution_count": 81,
     "metadata": {},
     "output_type": "execute_result"
    }
   ],
   "source": [
    "group_agg_df.transpose()"
   ]
  },
  {
   "cell_type": "markdown",
   "id": "d1ae9bc7-74fc-4b6f-b08d-9c1f388ac6f9",
   "metadata": {},
   "source": [
    "### 시각화\n",
    "* %matplotlib inline 설정이 필요함\n",
    "* plot(그래프)이 출력되려면 show() 함수를 호출해야 하지만 jupyter 에서는 설정을 하면 show() 호출하지 않아도 됨\n",
    "* 한글폰트 설정\n",
    "* plot에 대한 설정은 matplotlib의 함수를 사용하고, plot을 그려주는 기능은 seaborn의 함수를 사용함"
   ]
  },
  {
   "cell_type": "code",
   "execution_count": 83,
   "id": "0d389620-9928-411a-81f4-54b1563b8159",
   "metadata": {},
   "outputs": [],
   "source": [
    "%matplotlib inline\n",
    "\n",
    "import matplotlib\n",
    "import matplotlib.pyplot as plt\n",
    "import matplotlib.font_manager as fm\n",
    "import seaborn as sns"
   ]
  },
  {
   "cell_type": "code",
   "execution_count": 86,
   "id": "df5fe03d-b0f4-424b-a28a-925e172eadf1",
   "metadata": {},
   "outputs": [
    {
     "data": {
      "text/plain": [
       "[('Malgun Gothic', 'C:\\\\Windows\\\\Fonts\\\\malgun.ttf'),\n",
       " ('Maiandra GD', 'C:\\\\windows\\\\Fonts\\\\MAIAN.TTF'),\n",
       " ('Magneto', 'C:\\\\Windows\\\\Fonts\\\\MAGNETOB.TTF'),\n",
       " ('Malgun Gothic', 'C:\\\\windows\\\\Fonts\\\\malgunbd.ttf'),\n",
       " ('Magneto', 'C:\\\\windows\\\\Fonts\\\\MAGNETOB.TTF'),\n",
       " ('Matura MT Script Capitals', 'C:\\\\windows\\\\Fonts\\\\MATURASC.TTF'),\n",
       " ('Malgun Gothic', 'C:\\\\windows\\\\Fonts\\\\malgunsl.ttf'),\n",
       " ('Marlett', 'C:\\\\windows\\\\Fonts\\\\marlett.ttf'),\n",
       " ('Matura MT Script Capitals', 'C:\\\\Windows\\\\Fonts\\\\MATURASC.TTF'),\n",
       " ('Malgun Gothic', 'C:\\\\Windows\\\\Fonts\\\\malgunbd.ttf'),\n",
       " ('Malgun Gothic', 'C:\\\\windows\\\\Fonts\\\\malgun.ttf'),\n",
       " ('Maiandra GD', 'C:\\\\Windows\\\\Fonts\\\\MAIAN.TTF'),\n",
       " ('Malgun Gothic', 'C:\\\\Windows\\\\Fonts\\\\malgunsl.ttf'),\n",
       " ('Magic R', 'C:\\\\Windows\\\\Fonts\\\\HMKMMAG.TTF'),\n",
       " ('Magic R', 'C:\\\\windows\\\\Fonts\\\\HMKMMAG.TTF')]"
      ]
     },
     "execution_count": 86,
     "metadata": {},
     "output_type": "execute_result"
    }
   ],
   "source": [
    "#폰트이름, 폰트파일 이름 출력\n",
    "[(f.name, f.fname) for f in fm.fontManager.ttflist if 'Ma' in f.name]"
   ]
  },
  {
   "cell_type": "code",
   "execution_count": 88,
   "id": "1e1e1db9-74e3-4e25-9638-d29e7461b177",
   "metadata": {},
   "outputs": [],
   "source": [
    "font_path = 'C:\\\\Windows\\\\Fonts\\\\malgun.ttf'\n",
    "font_prop = fm.FontProperties(fname=font_path).get_name()\n",
    "\n",
    "#rc는 run command\n",
    "matplotlib.rc('font', family='Malgun Gothic')"
   ]
  },
  {
   "cell_type": "markdown",
   "id": "a8a9f9d9-b289-44db-a9da-91ff247fce6d",
   "metadata": {},
   "source": [
    "#### Figure, Axes, Axis\n",
    "* Figure는 Plot이 그려지는 도화지\n",
    "* Axes는 Figure를 분할해서 Plot이 그려지는 공간\n",
    "* Figure에 Axes를 여러개 생성해서 Figure를 분할해서 Plot을 그릴 수 있다. \n",
    "* Seaborn에서 제공하는 막대그래프를 그릴 수 있는 barplot() 함수를 사용"
   ]
  },
  {
   "cell_type": "code",
   "execution_count": 94,
   "id": "b09480f4-415a-477c-a4aa-f7d9a5704977",
   "metadata": {},
   "outputs": [
    {
     "name": "stdout",
     "output_type": "stream",
     "text": [
      "Figure(1296x864)\n",
      "AxesSubplot(0.125,0.536818;0.775x0.343182)\n",
      "AxesSubplot(0.125,0.125;0.775x0.343182)\n"
     ]
    },
    {
     "data": {
      "text/plain": [
       "<AxesSubplot:xlabel='행정구역', ylabel='면적'>"
      ]
     },
     "execution_count": 94,
     "metadata": {},
     "output_type": "execute_result"
    },
    {
     "data": {
      "image/png": "[encoded data removed]",
      "text/plain": [
       "<Figure size 1296x864 with 2 Axes>"
      ]
     },
     "metadata": {
      "needs_background": "light"
     },
     "output_type": "display_data"
    }
   ],
   "source": [
    "figure,(axes1,axes2) = plt.subplots(nrows=2, ncols=1)\n",
    "figure.set_size_inches(18,12)\n",
    "print(figure)\n",
    "print(axes1)\n",
    "print(axes2)\n",
    "seoul_popdesc_df = seoul_df.sort_values(by='인구수',ascending=False)\n",
    "sns.barplot(x='행정구역', y='인구수', data=seoul_popdesc_df, ax=axes1)\n",
    "\n",
    "seoul_areadesc_df = seoul_df.sort_values(by='면적',ascending=False)\n",
    "sns.barplot(x='행정구역', y='면적', data=seoul_areadesc_df, ax=axes2)"
   ]
  },
  {
   "cell_type": "code",
   "execution_count": 99,
   "id": "b2ed3582-4d06-494c-8762-1273a2aa324b",
   "metadata": {},
   "outputs": [],
   "source": [
    "def show_barplot(sido_name):\n",
    "    sido_df = data.loc[data['광역시도'] == sido_name]\n",
    "    \n",
    "    figure,(axes1,axes2) = plt.subplots(nrows=2, ncols=1)\n",
    "    figure.set_size_inches(18,12)\n",
    "    \n",
    "    sido_popdesc_df = sido_df.sort_values(by='인구수',ascending=False)\n",
    "    pop_plot = sns.barplot(x='행정구역', y='인구수', data=sido_popdesc_df, ax=axes1)\n",
    "    pop_plot.set_title(f'{sido_name} 행정구역별 인구수')\n",
    "\n",
    "    sido_areadesc_df = sido_df.sort_values(by='면적',ascending=False)\n",
    "    area_plot = sns.barplot(x='행정구역', y='면적', data=sido_areadesc_df, ax=axes2)\n",
    "    area_plot.set_title(f'{sido_name} 행정구역별 면적')"
   ]
  },
  {
   "cell_type": "code",
   "execution_count": 101,
   "id": "d1dbf341-1e7e-4629-84ae-1fe4b203d6f4",
   "metadata": {},
   "outputs": [
    {
     "data": {
      "image/png": "[encoded data removed]",
      "text/plain": [
       "<Figure size 1296x864 with 2 Axes>"
      ]
     },
     "metadata": {
      "needs_background": "light"
     },
     "output_type": "display_data"
    }
   ],
   "source": [
    "show_barplot('경기도')"
   ]
  },
  {
   "cell_type": "code",
   "execution_count": 110,
   "id": "b06096d7-bd45-4ca3-91a7-ce66e539de37",
   "metadata": {},
   "outputs": [
    {
     "data": {
      "text/html": [
       "<div>\n",
       "<style scoped>\n",
       "    .dataframe tbody tr th:only-of-type {\n",
       "        vertical-align: middle;\n",
       "    }\n",
       "\n",
       "    .dataframe tbody tr th {\n",
       "        vertical-align: top;\n",
       "    }\n",
       "\n",
       "    .dataframe thead th {\n",
       "        text-align: right;\n",
       "    }\n",
       "</style>\n",
       "<table border=\"1\" class=\"dataframe\">\n",
       "  <thead>\n",
       "    <tr style=\"text-align: right;\">\n",
       "      <th></th>\n",
       "      <th>광역시도</th>\n",
       "      <th>인구수</th>\n",
       "    </tr>\n",
       "  </thead>\n",
       "  <tbody>\n",
       "    <tr>\n",
       "      <th>0</th>\n",
       "      <td>경기도</td>\n",
       "      <td>11744210</td>\n",
       "    </tr>\n",
       "    <tr>\n",
       "      <th>1</th>\n",
       "      <td>서울특별시</td>\n",
       "      <td>9394807</td>\n",
       "    </tr>\n",
       "    <tr>\n",
       "      <th>2</th>\n",
       "      <td>부산광역시</td>\n",
       "      <td>3323591</td>\n",
       "    </tr>\n",
       "    <tr>\n",
       "      <th>3</th>\n",
       "      <td>경상남도</td>\n",
       "      <td>3144487</td>\n",
       "    </tr>\n",
       "    <tr>\n",
       "      <th>4</th>\n",
       "      <td>인천광역시</td>\n",
       "      <td>2766575</td>\n",
       "    </tr>\n",
       "    <tr>\n",
       "      <th>5</th>\n",
       "      <td>경상북도</td>\n",
       "      <td>2508964</td>\n",
       "    </tr>\n",
       "    <tr>\n",
       "      <th>6</th>\n",
       "      <td>대구광역시</td>\n",
       "      <td>2378450</td>\n",
       "    </tr>\n",
       "    <tr>\n",
       "      <th>7</th>\n",
       "      <td>충청남도</td>\n",
       "      <td>1946129</td>\n",
       "    </tr>\n",
       "    <tr>\n",
       "      <th>8</th>\n",
       "      <td>전라북도</td>\n",
       "      <td>1739048</td>\n",
       "    </tr>\n",
       "    <tr>\n",
       "      <th>9</th>\n",
       "      <td>전라남도</td>\n",
       "      <td>1700563</td>\n",
       "    </tr>\n",
       "    <tr>\n",
       "      <th>10</th>\n",
       "      <td>충청북도</td>\n",
       "      <td>1484720</td>\n",
       "    </tr>\n",
       "    <tr>\n",
       "      <th>11</th>\n",
       "      <td>대전광역시</td>\n",
       "      <td>1467677</td>\n",
       "    </tr>\n",
       "    <tr>\n",
       "      <th>12</th>\n",
       "      <td>광주광역시</td>\n",
       "      <td>1438209</td>\n",
       "    </tr>\n",
       "    <tr>\n",
       "      <th>13</th>\n",
       "      <td>강원도</td>\n",
       "      <td>1429438</td>\n",
       "    </tr>\n",
       "    <tr>\n",
       "      <th>14</th>\n",
       "      <td>울산광역시</td>\n",
       "      <td>1105585</td>\n",
       "    </tr>\n",
       "    <tr>\n",
       "      <th>15</th>\n",
       "      <td>제주특별자치도</td>\n",
       "      <td>575873</td>\n",
       "    </tr>\n",
       "    <tr>\n",
       "      <th>16</th>\n",
       "      <td>세종특별자치시</td>\n",
       "      <td>191233</td>\n",
       "    </tr>\n",
       "  </tbody>\n",
       "</table>\n",
       "</div>"
      ],
      "text/plain": [
       "       광역시도       인구수\n",
       "0       경기도  11744210\n",
       "1     서울특별시   9394807\n",
       "2     부산광역시   3323591\n",
       "3      경상남도   3144487\n",
       "4     인천광역시   2766575\n",
       "5      경상북도   2508964\n",
       "6     대구광역시   2378450\n",
       "7      충청남도   1946129\n",
       "8      전라북도   1739048\n",
       "9      전라남도   1700563\n",
       "10     충청북도   1484720\n",
       "11    대전광역시   1467677\n",
       "12    광주광역시   1438209\n",
       "13      강원도   1429438\n",
       "14    울산광역시   1105585\n",
       "15  제주특별자치도    575873\n",
       "16  세종특별자치시    191233"
      ]
     },
     "execution_count": 110,
     "metadata": {},
     "output_type": "execute_result"
    }
   ],
   "source": [
    "data_df = data.groupby('광역시도')['인구수'].sum().sort_values(ascending=False).reset_index(level='광역시도')\n",
    "data_df"
   ]
  },
  {
   "cell_type": "code",
   "execution_count": 112,
   "id": "e3d3ead2-bdb1-4836-841d-28b626f81368",
   "metadata": {},
   "outputs": [
    {
     "data": {
      "text/plain": [
       "<AxesSubplot:xlabel='광역시도', ylabel='인구수'>"
      ]
     },
     "execution_count": 112,
     "metadata": {},
     "output_type": "execute_result"
    },
    {
     "data": {
      "image/png": "[encoded data removed]",
      "text/plain": [
       "<Figure size 1296x864 with 1 Axes>"
      ]
     },
     "metadata": {
      "needs_background": "light"
     },
     "output_type": "display_data"
    }
   ],
   "source": [
    "figure, axes1 = plt.subplots(nrows=1, ncols=1)\n",
    "figure.set_size_inches(18,12)\n",
    "\n",
    "sns.barplot(x='광역시도', y='인구수', data=data_df, ax=axes1)"
   ]
  },
  {
   "cell_type": "code",
   "execution_count": 113,
   "id": "58146dff-56a8-442b-ae8e-df43a424049f",
   "metadata": {},
   "outputs": [
    {
     "data": {
      "text/plain": [
       "<AxesSubplot:xlabel='광역시도', ylabel='인구수'>"
      ]
     },
     "execution_count": 113,
     "metadata": {},
     "output_type": "execute_result"
    },
    {
     "data": {
      "image/png": "[encoded data removed]",
      "text/plain": [
       "<Figure size 1296x864 with 1 Axes>"
      ]
     },
     "metadata": {
      "needs_background": "light"
     },
     "output_type": "display_data"
    }
   ],
   "source": [
    "figure, axes1 = plt.subplots(nrows=1, ncols=1)\n",
    "figure.set_size_inches(18,12)\n",
    "\n",
    "sns.barplot(x='광역시도', y='인구수', data=data, ax=axes1)"
   ]
  }
 ],
 "metadata": {
  "kernelspec": {
   "display_name": "Python 3",
   "language": "python",
   "name": "python3"
  },
  "language_info": {
   "codemirror_mode": {
    "name": "ipython",
    "version": 3
   },
   "file_extension": ".py",
   "mimetype": "text/x-python",
   "name": "python",
   "nbconvert_exporter": "python",
   "pygments_lexer": "ipython3",
   "version": "3.8.8"
  }
 },
 "nbformat": 4,
 "nbformat_minor": 5
}
