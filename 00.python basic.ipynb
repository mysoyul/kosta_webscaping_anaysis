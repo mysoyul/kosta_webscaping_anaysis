{
 "cells": [
  {
   "cell_type": "code",
   "execution_count": 2,
   "id": "0b410e04",
   "metadata": {},
   "outputs": [
    {
     "name": "stdout",
     "output_type": "stream",
     "text": [
      "파일명은 aa.jpg 입니다.\n"
     ]
    }
   ],
   "source": [
    "file_name = 'aa.jpg'\n",
    "print('파일명은 {} 입니다.'.format(file_name))"
   ]
  },
  {
   "cell_type": "code",
   "execution_count": 4,
   "id": "7414b4f9",
   "metadata": {},
   "outputs": [
    {
     "name": "stdout",
     "output_type": "stream",
     "text": [
      "파일명은 aa.jpg 입니다.\n"
     ]
    }
   ],
   "source": [
    "print(f'파일명은 {file_name} 입니다.')"
   ]
  },
  {
   "cell_type": "code",
   "execution_count": 9,
   "id": "4cb1d834",
   "metadata": {},
   "outputs": [
    {
     "name": "stdout",
     "output_type": "stream",
     "text": [
      "1 10\n",
      "2 11\n",
      "3 12\n",
      "4 13\n",
      "5 14\n",
      "6 15\n",
      "7 16\n",
      "8 17\n",
      "9 18\n",
      "10 19\n"
     ]
    }
   ],
   "source": [
    "for idx,val in enumerate(range(10,20),1):\n",
    "    print(idx, val)"
   ]
  }
 ],
 "metadata": {
  "kernelspec": {
   "display_name": "Python 3",
   "language": "python",
   "name": "python3"
  },
  "language_info": {
   "codemirror_mode": {
    "name": "ipython",
    "version": 3
   },
   "file_extension": ".py",
   "mimetype": "text/x-python",
   "name": "python",
   "nbconvert_exporter": "python",
   "pygments_lexer": "ipython3",
   "version": "3.8.8"
  }
 },
 "nbformat": 4,
 "nbformat_minor": 5
}
